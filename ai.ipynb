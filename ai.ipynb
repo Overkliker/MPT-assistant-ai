{
 "cells": [
  {
   "cell_type": "code",
   "id": "initial_id",
   "metadata": {
    "collapsed": true,
    "ExecuteTime": {
     "end_time": "2024-10-19T19:14:51.399578Z",
     "start_time": "2024-10-19T19:14:45.146970Z"
    }
   },
   "source": [
    "import numpy as np\n",
    "import pandas as pd\n",
    "import keras\n",
    "import numpy as np\n",
    "from keras_preprocessing.text import Tokenizer\n",
    "import fasttext "
   ],
   "outputs": [],
   "execution_count": 1
  },
  {
   "cell_type": "code",
   "source": [
    "df = pd.read_csv('questions3.csv', delimiter=\";\", encoding='utf-8')\n",
    "\n",
    "df.head(50)"
   ],
   "metadata": {
    "collapsed": false,
    "ExecuteTime": {
     "end_time": "2024-10-19T20:56:15.651710Z",
     "start_time": "2024-10-19T20:56:15.635269Z"
    }
   },
   "id": "d29a5161797ddf6b",
   "outputs": [
    {
     "data": {
      "text/plain": [
       "                                             question  \\\n",
       "0   Какая квалификация присваивается выпускникам т...   \n",
       "1   Какая квалификация присваивается выпускникам т...   \n",
       "2   Какая квалификация присваивается выпускникам с...   \n",
       "3   Какая квалификация присваивается выпускникам с...   \n",
       "4   Какая квалификация присваивается выпускникам с...   \n",
       "5   Какая квалификация присваивается выпускникам с...   \n",
       "6   Какая квалификация присваивается выпускникам с...   \n",
       "7   Как осуществляется оплата обучения — сразу за ...   \n",
       "8       Когда начинается прием документов в техникум?   \n",
       "9           Когда начинается учебный год у студентов?   \n",
       "10                  По какому адресу учатся студенты?   \n",
       "11  Можно ли оплачивать обучение из средств матери...   \n",
       "12  Выплачивается ли студентам-бюджетникам стипендия?   \n",
       "13  Можно ли прислать документы в приемную комисси...   \n",
       "14                 Когда начинается прием документов?   \n",
       "15  Какая квалификация присваивается выпускникам т...   \n",
       "16                       Какая квалификация 09.02.01?   \n",
       "17                       Какая квалификация 09.02.06?   \n",
       "18                       Какая квалификация 09.02.08?   \n",
       "19                       Какая квалификация 10.02.05?   \n",
       "20                       Какая квалификация 25.02.08?   \n",
       "21                       Какая квалификация 40.02.04?   \n",
       "22                       Какая квалификация 09.02.07?   \n",
       "23  Как осуществляется оплата обучения — сразу за ...   \n",
       "24      Когда начинается прием документов в техникум?   \n",
       "25          Когда начинается учебный год у студентов?   \n",
       "26     По какому адресу проходят занятия у студентов?   \n",
       "27  Можно ли использовать средства материнского ка...   \n",
       "28                 Есть ли стипендия для бюджетников?   \n",
       "29  Разрешено ли отправлять документы в приемную к...   \n",
       "30  Кто получает квалификацию по специальности 09....   \n",
       "31  Кто получает квалификацию по специальности 09....   \n",
       "32  Кто получает квалификацию по специальности 09....   \n",
       "33  Кто получает квалификацию по специальности 10....   \n",
       "34  Кто получает квалификацию по специальности 25....   \n",
       "35  Кто получает квалификацию по специальности 40....   \n",
       "36  Кто получает квалификацию по специальности 09....   \n",
       "37                  Как происходит оплата за обучение   \n",
       "38        Когда начинается сбор документов в техникум   \n",
       "39     Когда начинается учебный процесс для студентов   \n",
       "40                  По какому адресу проходят занятия   \n",
       "41  Можно ли использовать материнский капитал для ...   \n",
       "42                  Есть ли стипендия для бюджетников   \n",
       "43  Разрешено ли отправлять документы в приемную к...   \n",
       "\n",
       "                                             response  Unnamed: 2  \n",
       "0   Выпускникам специальности 09.02.01 \"Компьютерн...         NaN  \n",
       "1   Выпускникам специальности 09.02.06 \"Сетевое и ...         NaN  \n",
       "2   Выпускникам специальности 09.02.08 присваивает...         NaN  \n",
       "3   Выпускникам специальности 10.02.05 присваивает...         NaN  \n",
       "4   Выпускникам специальности 25.02.08 присваивает...         NaN  \n",
       "5   Выпускникам специальности 40.02.04 присваивает...         NaN  \n",
       "6   Выпускникам специальности 09.02.07 присваивает...         NaN  \n",
       "7         Оплата обучения осуществляется по семестрам         NaN  \n",
       "8   Прием документов для поступления проходит с 20...         NaN  \n",
       "9   Начало учебного года у студентов всех курсов —...         NaN  \n",
       "10  Студенты первокурсники всех специальностей обу...         NaN  \n",
       "11  Оплата обучения материнским капиталом возможна...         NaN  \n",
       "12  С 1 сентября по 31 декабря государственная ака...         NaN  \n",
       "13  Поступающие вправе направить в колледж заявлен...         NaN  \n",
       "14  Прием документов для поступления проходит с 20...         NaN  \n",
       "15  Выпускникам специальности 09.02.01 \"Компьютерн...         NaN  \n",
       "16  Выпускникам специальности 09.02.01 \"Компьютерн...         NaN  \n",
       "17  Выпускникам специальности 09.02.06 \"Сетевое и ...         NaN  \n",
       "18  Выпускникам специальности 09.02.08 присваивает...         NaN  \n",
       "19  Выпускникам специальности 10.02.05 присваивает...         NaN  \n",
       "20  Выпускникам специальности 25.02.08 присваивает...         NaN  \n",
       "21  Выпускникам специальности 40.02.04 присваивает...         NaN  \n",
       "22  Выпускникам специальности 09.02.07 присваивает...         NaN  \n",
       "23        Оплата обучения осуществляется по семестрам         NaN  \n",
       "24  Прием документов для поступления проходит с 20...         NaN  \n",
       "25  Начало учебного года у студентов всех курсов —...         NaN  \n",
       "26  Студенты первокурсники всех специальностей обу...         NaN  \n",
       "27  Оплата обучения материнским капиталом возможна...         NaN  \n",
       "28  С 1 сентября по 31 декабря государственная ака...         NaN  \n",
       "29  Поступающие вправе направить в колледж заявлен...         NaN  \n",
       "30  Выпускникам специальности 09.02.01 \"Компьютерн...         NaN  \n",
       "31  Выпускникам специальности 09.02.06 \"Сетевое и ...         NaN  \n",
       "32  Выпускникам специальности 09.02.08 присваивает...         NaN  \n",
       "33  Выпускникам специальности 10.02.05 присваивает...         NaN  \n",
       "34  Выпускникам специальности 25.02.08 присваивает...         NaN  \n",
       "35  Выпускникам специальности 40.02.04 присваивает...         NaN  \n",
       "36  Выпускникам специальности 09.02.07 присваивает...         NaN  \n",
       "37        Оплата обучения осуществляется по семестрам         NaN  \n",
       "38  Прием документов для поступления проходит с 20...         NaN  \n",
       "39  Начало учебного года у студентов всех курсов —...         NaN  \n",
       "40  Студенты первокурсники всех специальностей обу...         NaN  \n",
       "41  Оплата обучения материнским капиталом возможна...         NaN  \n",
       "42  С 1 сентября по 31 декабря государственная ака...         NaN  \n",
       "43  Поступающие вправе направить в колледж заявлен...         NaN  "
      ],
      "text/html": [
       "<div>\n",
       "<style scoped>\n",
       "    .dataframe tbody tr th:only-of-type {\n",
       "        vertical-align: middle;\n",
       "    }\n",
       "\n",
       "    .dataframe tbody tr th {\n",
       "        vertical-align: top;\n",
       "    }\n",
       "\n",
       "    .dataframe thead th {\n",
       "        text-align: right;\n",
       "    }\n",
       "</style>\n",
       "<table border=\"1\" class=\"dataframe\">\n",
       "  <thead>\n",
       "    <tr style=\"text-align: right;\">\n",
       "      <th></th>\n",
       "      <th>question</th>\n",
       "      <th>response</th>\n",
       "      <th>Unnamed: 2</th>\n",
       "    </tr>\n",
       "  </thead>\n",
       "  <tbody>\n",
       "    <tr>\n",
       "      <th>0</th>\n",
       "      <td>Какая квалификация присваивается выпускникам т...</td>\n",
       "      <td>Выпускникам специальности 09.02.01 \"Компьютерн...</td>\n",
       "      <td>NaN</td>\n",
       "    </tr>\n",
       "    <tr>\n",
       "      <th>1</th>\n",
       "      <td>Какая квалификация присваивается выпускникам т...</td>\n",
       "      <td>Выпускникам специальности 09.02.06 \"Сетевое и ...</td>\n",
       "      <td>NaN</td>\n",
       "    </tr>\n",
       "    <tr>\n",
       "      <th>2</th>\n",
       "      <td>Какая квалификация присваивается выпускникам с...</td>\n",
       "      <td>Выпускникам специальности 09.02.08 присваивает...</td>\n",
       "      <td>NaN</td>\n",
       "    </tr>\n",
       "    <tr>\n",
       "      <th>3</th>\n",
       "      <td>Какая квалификация присваивается выпускникам с...</td>\n",
       "      <td>Выпускникам специальности 10.02.05 присваивает...</td>\n",
       "      <td>NaN</td>\n",
       "    </tr>\n",
       "    <tr>\n",
       "      <th>4</th>\n",
       "      <td>Какая квалификация присваивается выпускникам с...</td>\n",
       "      <td>Выпускникам специальности 25.02.08 присваивает...</td>\n",
       "      <td>NaN</td>\n",
       "    </tr>\n",
       "    <tr>\n",
       "      <th>5</th>\n",
       "      <td>Какая квалификация присваивается выпускникам с...</td>\n",
       "      <td>Выпускникам специальности 40.02.04 присваивает...</td>\n",
       "      <td>NaN</td>\n",
       "    </tr>\n",
       "    <tr>\n",
       "      <th>6</th>\n",
       "      <td>Какая квалификация присваивается выпускникам с...</td>\n",
       "      <td>Выпускникам специальности 09.02.07 присваивает...</td>\n",
       "      <td>NaN</td>\n",
       "    </tr>\n",
       "    <tr>\n",
       "      <th>7</th>\n",
       "      <td>Как осуществляется оплата обучения — сразу за ...</td>\n",
       "      <td>Оплата обучения осуществляется по семестрам</td>\n",
       "      <td>NaN</td>\n",
       "    </tr>\n",
       "    <tr>\n",
       "      <th>8</th>\n",
       "      <td>Когда начинается прием документов в техникум?</td>\n",
       "      <td>Прием документов для поступления проходит с 20...</td>\n",
       "      <td>NaN</td>\n",
       "    </tr>\n",
       "    <tr>\n",
       "      <th>9</th>\n",
       "      <td>Когда начинается учебный год у студентов?</td>\n",
       "      <td>Начало учебного года у студентов всех курсов —...</td>\n",
       "      <td>NaN</td>\n",
       "    </tr>\n",
       "    <tr>\n",
       "      <th>10</th>\n",
       "      <td>По какому адресу учатся студенты?</td>\n",
       "      <td>Студенты первокурсники всех специальностей обу...</td>\n",
       "      <td>NaN</td>\n",
       "    </tr>\n",
       "    <tr>\n",
       "      <th>11</th>\n",
       "      <td>Можно ли оплачивать обучение из средств матери...</td>\n",
       "      <td>Оплата обучения материнским капиталом возможна...</td>\n",
       "      <td>NaN</td>\n",
       "    </tr>\n",
       "    <tr>\n",
       "      <th>12</th>\n",
       "      <td>Выплачивается ли студентам-бюджетникам стипендия?</td>\n",
       "      <td>С 1 сентября по 31 декабря государственная ака...</td>\n",
       "      <td>NaN</td>\n",
       "    </tr>\n",
       "    <tr>\n",
       "      <th>13</th>\n",
       "      <td>Можно ли прислать документы в приемную комисси...</td>\n",
       "      <td>Поступающие вправе направить в колледж заявлен...</td>\n",
       "      <td>NaN</td>\n",
       "    </tr>\n",
       "    <tr>\n",
       "      <th>14</th>\n",
       "      <td>Когда начинается прием документов?</td>\n",
       "      <td>Прием документов для поступления проходит с 20...</td>\n",
       "      <td>NaN</td>\n",
       "    </tr>\n",
       "    <tr>\n",
       "      <th>15</th>\n",
       "      <td>Какая квалификация присваивается выпускникам т...</td>\n",
       "      <td>Выпускникам специальности 09.02.01 \"Компьютерн...</td>\n",
       "      <td>NaN</td>\n",
       "    </tr>\n",
       "    <tr>\n",
       "      <th>16</th>\n",
       "      <td>Какая квалификация 09.02.01?</td>\n",
       "      <td>Выпускникам специальности 09.02.01 \"Компьютерн...</td>\n",
       "      <td>NaN</td>\n",
       "    </tr>\n",
       "    <tr>\n",
       "      <th>17</th>\n",
       "      <td>Какая квалификация 09.02.06?</td>\n",
       "      <td>Выпускникам специальности 09.02.06 \"Сетевое и ...</td>\n",
       "      <td>NaN</td>\n",
       "    </tr>\n",
       "    <tr>\n",
       "      <th>18</th>\n",
       "      <td>Какая квалификация 09.02.08?</td>\n",
       "      <td>Выпускникам специальности 09.02.08 присваивает...</td>\n",
       "      <td>NaN</td>\n",
       "    </tr>\n",
       "    <tr>\n",
       "      <th>19</th>\n",
       "      <td>Какая квалификация 10.02.05?</td>\n",
       "      <td>Выпускникам специальности 10.02.05 присваивает...</td>\n",
       "      <td>NaN</td>\n",
       "    </tr>\n",
       "    <tr>\n",
       "      <th>20</th>\n",
       "      <td>Какая квалификация 25.02.08?</td>\n",
       "      <td>Выпускникам специальности 25.02.08 присваивает...</td>\n",
       "      <td>NaN</td>\n",
       "    </tr>\n",
       "    <tr>\n",
       "      <th>21</th>\n",
       "      <td>Какая квалификация 40.02.04?</td>\n",
       "      <td>Выпускникам специальности 40.02.04 присваивает...</td>\n",
       "      <td>NaN</td>\n",
       "    </tr>\n",
       "    <tr>\n",
       "      <th>22</th>\n",
       "      <td>Какая квалификация 09.02.07?</td>\n",
       "      <td>Выпускникам специальности 09.02.07 присваивает...</td>\n",
       "      <td>NaN</td>\n",
       "    </tr>\n",
       "    <tr>\n",
       "      <th>23</th>\n",
       "      <td>Как осуществляется оплата обучения — сразу за ...</td>\n",
       "      <td>Оплата обучения осуществляется по семестрам</td>\n",
       "      <td>NaN</td>\n",
       "    </tr>\n",
       "    <tr>\n",
       "      <th>24</th>\n",
       "      <td>Когда начинается прием документов в техникум?</td>\n",
       "      <td>Прием документов для поступления проходит с 20...</td>\n",
       "      <td>NaN</td>\n",
       "    </tr>\n",
       "    <tr>\n",
       "      <th>25</th>\n",
       "      <td>Когда начинается учебный год у студентов?</td>\n",
       "      <td>Начало учебного года у студентов всех курсов —...</td>\n",
       "      <td>NaN</td>\n",
       "    </tr>\n",
       "    <tr>\n",
       "      <th>26</th>\n",
       "      <td>По какому адресу проходят занятия у студентов?</td>\n",
       "      <td>Студенты первокурсники всех специальностей обу...</td>\n",
       "      <td>NaN</td>\n",
       "    </tr>\n",
       "    <tr>\n",
       "      <th>27</th>\n",
       "      <td>Можно ли использовать средства материнского ка...</td>\n",
       "      <td>Оплата обучения материнским капиталом возможна...</td>\n",
       "      <td>NaN</td>\n",
       "    </tr>\n",
       "    <tr>\n",
       "      <th>28</th>\n",
       "      <td>Есть ли стипендия для бюджетников?</td>\n",
       "      <td>С 1 сентября по 31 декабря государственная ака...</td>\n",
       "      <td>NaN</td>\n",
       "    </tr>\n",
       "    <tr>\n",
       "      <th>29</th>\n",
       "      <td>Разрешено ли отправлять документы в приемную к...</td>\n",
       "      <td>Поступающие вправе направить в колледж заявлен...</td>\n",
       "      <td>NaN</td>\n",
       "    </tr>\n",
       "    <tr>\n",
       "      <th>30</th>\n",
       "      <td>Кто получает квалификацию по специальности 09....</td>\n",
       "      <td>Выпускникам специальности 09.02.01 \"Компьютерн...</td>\n",
       "      <td>NaN</td>\n",
       "    </tr>\n",
       "    <tr>\n",
       "      <th>31</th>\n",
       "      <td>Кто получает квалификацию по специальности 09....</td>\n",
       "      <td>Выпускникам специальности 09.02.06 \"Сетевое и ...</td>\n",
       "      <td>NaN</td>\n",
       "    </tr>\n",
       "    <tr>\n",
       "      <th>32</th>\n",
       "      <td>Кто получает квалификацию по специальности 09....</td>\n",
       "      <td>Выпускникам специальности 09.02.08 присваивает...</td>\n",
       "      <td>NaN</td>\n",
       "    </tr>\n",
       "    <tr>\n",
       "      <th>33</th>\n",
       "      <td>Кто получает квалификацию по специальности 10....</td>\n",
       "      <td>Выпускникам специальности 10.02.05 присваивает...</td>\n",
       "      <td>NaN</td>\n",
       "    </tr>\n",
       "    <tr>\n",
       "      <th>34</th>\n",
       "      <td>Кто получает квалификацию по специальности 25....</td>\n",
       "      <td>Выпускникам специальности 25.02.08 присваивает...</td>\n",
       "      <td>NaN</td>\n",
       "    </tr>\n",
       "    <tr>\n",
       "      <th>35</th>\n",
       "      <td>Кто получает квалификацию по специальности 40....</td>\n",
       "      <td>Выпускникам специальности 40.02.04 присваивает...</td>\n",
       "      <td>NaN</td>\n",
       "    </tr>\n",
       "    <tr>\n",
       "      <th>36</th>\n",
       "      <td>Кто получает квалификацию по специальности 09....</td>\n",
       "      <td>Выпускникам специальности 09.02.07 присваивает...</td>\n",
       "      <td>NaN</td>\n",
       "    </tr>\n",
       "    <tr>\n",
       "      <th>37</th>\n",
       "      <td>Как происходит оплата за обучение</td>\n",
       "      <td>Оплата обучения осуществляется по семестрам</td>\n",
       "      <td>NaN</td>\n",
       "    </tr>\n",
       "    <tr>\n",
       "      <th>38</th>\n",
       "      <td>Когда начинается сбор документов в техникум</td>\n",
       "      <td>Прием документов для поступления проходит с 20...</td>\n",
       "      <td>NaN</td>\n",
       "    </tr>\n",
       "    <tr>\n",
       "      <th>39</th>\n",
       "      <td>Когда начинается учебный процесс для студентов</td>\n",
       "      <td>Начало учебного года у студентов всех курсов —...</td>\n",
       "      <td>NaN</td>\n",
       "    </tr>\n",
       "    <tr>\n",
       "      <th>40</th>\n",
       "      <td>По какому адресу проходят занятия</td>\n",
       "      <td>Студенты первокурсники всех специальностей обу...</td>\n",
       "      <td>NaN</td>\n",
       "    </tr>\n",
       "    <tr>\n",
       "      <th>41</th>\n",
       "      <td>Можно ли использовать материнский капитал для ...</td>\n",
       "      <td>Оплата обучения материнским капиталом возможна...</td>\n",
       "      <td>NaN</td>\n",
       "    </tr>\n",
       "    <tr>\n",
       "      <th>42</th>\n",
       "      <td>Есть ли стипендия для бюджетников</td>\n",
       "      <td>С 1 сентября по 31 декабря государственная ака...</td>\n",
       "      <td>NaN</td>\n",
       "    </tr>\n",
       "    <tr>\n",
       "      <th>43</th>\n",
       "      <td>Разрешено ли отправлять документы в приемную к...</td>\n",
       "      <td>Поступающие вправе направить в колледж заявлен...</td>\n",
       "      <td>NaN</td>\n",
       "    </tr>\n",
       "  </tbody>\n",
       "</table>\n",
       "</div>"
      ]
     },
     "execution_count": 36,
     "metadata": {},
     "output_type": "execute_result"
    }
   ],
   "execution_count": 36
  },
  {
   "cell_type": "code",
   "source": [
    "def tokenize_words(string: str):\n",
    "    text = string.replace(\".\", '').replace(\"?\", '').replace('-', '')\n",
    "    return text.lower()\n",
    "\n",
    "def to_codding(array):\n",
    "    codding_text = []\n",
    "    for i in array:\n",
    "        codding_text.append([tokenizer.word_index.get(j) if tokenizer.word_index.get(j) is not None else 0 for j in i.split(\" \")])\n",
    "        \n",
    "    return codding_text"
   ],
   "metadata": {
    "collapsed": false,
    "ExecuteTime": {
     "end_time": "2024-10-19T19:23:56.451703Z",
     "start_time": "2024-10-19T19:23:56.446876Z"
    }
   },
   "id": "4fdd3b9904a117ae",
   "outputs": [],
   "execution_count": 17
  },
  {
   "cell_type": "code",
   "source": [
    "\n",
    "max_words_in_text = 20\n",
    "\n",
    "tokenizer = Tokenizer(num_words=max_words_in_text, filters='!–\"—#$%&amp;()*+,-./:;<=>?@[\\\\]^_`{|}~\\t\\n\\r«»',\n",
    "                      lower=True, split=' ', char_level=False)\n",
    "\n",
    "from_preproc = [tokenize_words(i) for i in df.question]\n",
    "tokenizer.fit_on_texts(from_preproc)\n",
    "new_text = to_codding(from_preproc)\n",
    "\n",
    "print(new_text)"
   ],
   "metadata": {
    "collapsed": false,
    "ExecuteTime": {
     "end_time": "2024-10-19T20:56:20.370626Z",
     "start_time": "2024-10-19T20:56:20.363689Z"
    }
   },
   "id": "2d43ccfee5d7e59e",
   "outputs": [
    {
     "name": "stdout",
     "output_type": "stream",
     "text": [
      "[[1, 2, 7, 8, 25, 4, 3, 17, 0, 18, 14, 0], [1, 2, 7, 8, 25, 4, 3, 26, 0, 14, 49, 0], [1, 2, 7, 8, 3, 27, 0], [1, 2, 7, 8, 3, 28, 0, 53, 54, 55, 0], [1, 2, 7, 8, 3, 29, 0, 57, 58, 0], [1, 2, 7, 8, 3, 30, 0], [1, 2, 7, 8, 3, 31, 0, 18, 14, 0], [32, 62, 33, 34, 0, 63, 20, 15, 21], [9, 10, 35, 22, 5, 36], [9, 10, 15, 21, 37, 23], [4, 38, 39, 75, 76], [24, 6, 77, 40, 78, 79, 64, 65], [80, 6, 81, 41], [24, 6, 82, 42, 5, 43, 44, 5, 45, 83], [9, 10, 35, 22], [1, 2, 7, 8, 25, 4, 3, 17], [1, 2, 17], [1, 2, 26], [1, 2, 27], [1, 2, 28], [1, 2, 29], [1, 2, 30], [1, 2, 31], [32, 62, 33, 34, 0, 63, 20, 15, 21], [9, 10, 35, 22, 5, 36], [9, 10, 15, 21, 37, 23], [4, 38, 39, 66, 67, 37, 23], [24, 6, 68, 84, 64, 65, 16, 69, 34], [70, 6, 41, 16, 71], [72, 6, 73, 42, 5, 43, 44, 5, 45, 74], [11, 12, 13, 4, 3, 17, 0, 18, 14, 0], [11, 12, 13, 4, 3, 26, 0, 14, 49, 0], [11, 12, 13, 4, 3, 27, 0], [11, 12, 13, 4, 3, 28, 0, 53, 54, 55, 0], [11, 12, 13, 4, 3, 29, 0, 57, 58, 0], [11, 12, 13, 4, 3, 30, 0], [11, 12, 13, 4, 3, 31, 0, 18, 14, 0], [32, 85, 33, 20, 40], [9, 10, 86, 22, 5, 36], [9, 10, 15, 87, 16, 23], [4, 38, 39, 66, 67], [24, 6, 68, 88, 89, 16, 69, 20, 40], [70, 6, 41, 16, 71], [72, 6, 73, 42, 5, 43, 44, 5, 45, 74]]\n"
     ]
    }
   ],
   "execution_count": 37
  },
  {
   "metadata": {
    "ExecuteTime": {
     "end_time": "2024-10-19T19:15:07.835087Z",
     "start_time": "2024-10-19T19:15:07.830043Z"
    }
   },
   "cell_type": "code",
   "source": [
    "def to_max_words(phrase: list[int], max_words: int):\n",
    "    nulles = [0 for _ in range(max_words - len(phrase))]\n",
    "    \n",
    "    return nulles + phrase"
   ],
   "id": "37f2dab02a1f6391",
   "outputs": [],
   "execution_count": 5
  },
  {
   "cell_type": "code",
   "source": [
    "new_text = [to_max_words(phrase, max_words_in_text) for phrase in new_text]"
   ],
   "metadata": {
    "collapsed": false,
    "ExecuteTime": {
     "end_time": "2024-10-19T20:56:24.666153Z",
     "start_time": "2024-10-19T20:56:24.661460Z"
    }
   },
   "id": "f262d4efcd9c6563",
   "outputs": [],
   "execution_count": 38
  },
  {
   "metadata": {
    "ExecuteTime": {
     "end_time": "2024-10-19T20:56:30.479950Z",
     "start_time": "2024-10-19T20:56:30.474090Z"
    }
   },
   "cell_type": "code",
   "source": [
    "class_responses = {}\n",
    "responses_class = {}\n",
    "array_classifications = []\n",
    "\n",
    "index_class = 1\n",
    "for resp in df.response:\n",
    "    \n",
    "    if resp not in class_responses.values():\n",
    "        class_responses[index_class] = resp\n",
    "        responses_class[resp] = index_class\n",
    "        array_classifications.append(index_class)\n",
    "        index_class += 1\n",
    "    \n",
    "    else:\n",
    "        array_classifications.append(responses_class[resp])\n"
   ],
   "id": "92410dba4d8b46ed",
   "outputs": [],
   "execution_count": 39
  },
  {
   "metadata": {
    "ExecuteTime": {
     "end_time": "2024-10-19T20:56:33.527544Z",
     "start_time": "2024-10-19T20:56:33.522474Z"
    }
   },
   "cell_type": "code",
   "source": [
    "X = new_text\n",
    "max_value = max(class_responses.keys())\n",
    "y = []\n",
    "for i in array_classifications:\n",
    "    y.append([1 if j == i else 0 for j in range(max_value)])"
   ],
   "id": "17d3fe08b854b226",
   "outputs": [],
   "execution_count": 40
  },
  {
   "metadata": {
    "ExecuteTime": {
     "end_time": "2024-10-19T20:56:35.186680Z",
     "start_time": "2024-10-19T20:56:35.179850Z"
    }
   },
   "cell_type": "code",
   "source": [
    "from sklearn.model_selection import train_test_split\n",
    "\n",
    "x_train, x_test, y_train, y_test = train_test_split(X, y, test_size=0.33)\n",
    "x_train = np.array(x_train)\n",
    "x_test = np.array(x_test)\n",
    "y_train = np.array(y_train)\n",
    "y_test = np.array(y_test)\n",
    "print(x_train.shape)\n",
    "print(y_train.shape)"
   ],
   "id": "61b8e0d15e141ee3",
   "outputs": [
    {
     "name": "stdout",
     "output_type": "stream",
     "text": [
      "(29, 20)\n",
      "(29, 14)\n"
     ]
    }
   ],
   "execution_count": 41
  },
  {
   "cell_type": "code",
   "source": [
    "from keras.api.layers import Embedding, Dense, BatchNormalization, LSTM, GRU, SimpleRNN, Dropout\n",
    "from keras.api.losses import BinaryCrossentropy"
   ],
   "metadata": {
    "collapsed": false,
    "ExecuteTime": {
     "end_time": "2024-10-19T19:15:36.709531Z",
     "start_time": "2024-10-19T19:15:36.705043Z"
    }
   },
   "id": "11f7c626c6324348",
   "outputs": [],
   "execution_count": 10
  },
  {
   "metadata": {
    "ExecuteTime": {
     "end_time": "2024-10-19T20:56:42.176503Z",
     "start_time": "2024-10-19T20:56:42.027841Z"
    }
   },
   "cell_type": "code",
   "source": [
    "model = keras.models.Sequential(\n",
    "    [\n",
    "    Embedding(output_dim=20, input_dim=max(tokenizer.index_word.keys()) + 1),\n",
    "    LSTM(256, activation='relu'),\n",
    "    BatchNormalization(),\n",
    "    Dense(128, activation='relu'),\n",
    "    BatchNormalization(),\n",
    "    Dense(64, activation=\"relu\"),\n",
    "    BatchNormalization(),\n",
    "    Dense(32, activation=\"relu\"),\n",
    "    Dropout(0.5),\n",
    "    Dense(len(class_responses.keys()), activation=\"sigmoid\")\n",
    "]\n",
    ")\n",
    "\n",
    "model.summary()\n",
    "model.compile(loss=BinaryCrossentropy, metrics=[\"recall\"], optimizer=\"adam\")"
   ],
   "id": "d70313833561b92",
   "outputs": [
    {
     "data": {
      "text/plain": [
       "\u001B[1mModel: \"sequential_1\"\u001B[0m\n"
      ],
      "text/html": [
       "<pre style=\"white-space:pre;overflow-x:auto;line-height:normal;font-family:Menlo,'DejaVu Sans Mono',consolas,'Courier New',monospace\"><span style=\"font-weight: bold\">Model: \"sequential_1\"</span>\n",
       "</pre>\n"
      ]
     },
     "metadata": {},
     "output_type": "display_data"
    },
    {
     "data": {
      "text/plain": [
       "┏━━━━━━━━━━━━━━━━━━━━━━━━━━━━━━━━━┳━━━━━━━━━━━━━━━━━━━━━━━━┳━━━━━━━━━━━━━━━┓\n",
       "┃\u001B[1m \u001B[0m\u001B[1mLayer (type)                   \u001B[0m\u001B[1m \u001B[0m┃\u001B[1m \u001B[0m\u001B[1mOutput Shape          \u001B[0m\u001B[1m \u001B[0m┃\u001B[1m \u001B[0m\u001B[1m      Param #\u001B[0m\u001B[1m \u001B[0m┃\n",
       "┡━━━━━━━━━━━━━━━━━━━━━━━━━━━━━━━━━╇━━━━━━━━━━━━━━━━━━━━━━━━╇━━━━━━━━━━━━━━━┩\n",
       "│ embedding_1 (\u001B[38;5;33mEmbedding\u001B[0m)         │ ?                      │   \u001B[38;5;34m0\u001B[0m (unbuilt) │\n",
       "├─────────────────────────────────┼────────────────────────┼───────────────┤\n",
       "│ lstm_1 (\u001B[38;5;33mLSTM\u001B[0m)                   │ ?                      │   \u001B[38;5;34m0\u001B[0m (unbuilt) │\n",
       "├─────────────────────────────────┼────────────────────────┼───────────────┤\n",
       "│ batch_normalization_3           │ ?                      │   \u001B[38;5;34m0\u001B[0m (unbuilt) │\n",
       "│ (\u001B[38;5;33mBatchNormalization\u001B[0m)            │                        │               │\n",
       "├─────────────────────────────────┼────────────────────────┼───────────────┤\n",
       "│ dense_4 (\u001B[38;5;33mDense\u001B[0m)                 │ ?                      │   \u001B[38;5;34m0\u001B[0m (unbuilt) │\n",
       "├─────────────────────────────────┼────────────────────────┼───────────────┤\n",
       "│ batch_normalization_4           │ ?                      │   \u001B[38;5;34m0\u001B[0m (unbuilt) │\n",
       "│ (\u001B[38;5;33mBatchNormalization\u001B[0m)            │                        │               │\n",
       "├─────────────────────────────────┼────────────────────────┼───────────────┤\n",
       "│ dense_5 (\u001B[38;5;33mDense\u001B[0m)                 │ ?                      │   \u001B[38;5;34m0\u001B[0m (unbuilt) │\n",
       "├─────────────────────────────────┼────────────────────────┼───────────────┤\n",
       "│ batch_normalization_5           │ ?                      │   \u001B[38;5;34m0\u001B[0m (unbuilt) │\n",
       "│ (\u001B[38;5;33mBatchNormalization\u001B[0m)            │                        │               │\n",
       "├─────────────────────────────────┼────────────────────────┼───────────────┤\n",
       "│ dense_6 (\u001B[38;5;33mDense\u001B[0m)                 │ ?                      │   \u001B[38;5;34m0\u001B[0m (unbuilt) │\n",
       "├─────────────────────────────────┼────────────────────────┼───────────────┤\n",
       "│ dropout_1 (\u001B[38;5;33mDropout\u001B[0m)             │ ?                      │             \u001B[38;5;34m0\u001B[0m │\n",
       "├─────────────────────────────────┼────────────────────────┼───────────────┤\n",
       "│ dense_7 (\u001B[38;5;33mDense\u001B[0m)                 │ ?                      │   \u001B[38;5;34m0\u001B[0m (unbuilt) │\n",
       "└─────────────────────────────────┴────────────────────────┴───────────────┘\n"
      ],
      "text/html": [
       "<pre style=\"white-space:pre;overflow-x:auto;line-height:normal;font-family:Menlo,'DejaVu Sans Mono',consolas,'Courier New',monospace\">┏━━━━━━━━━━━━━━━━━━━━━━━━━━━━━━━━━┳━━━━━━━━━━━━━━━━━━━━━━━━┳━━━━━━━━━━━━━━━┓\n",
       "┃<span style=\"font-weight: bold\"> Layer (type)                    </span>┃<span style=\"font-weight: bold\"> Output Shape           </span>┃<span style=\"font-weight: bold\">       Param # </span>┃\n",
       "┡━━━━━━━━━━━━━━━━━━━━━━━━━━━━━━━━━╇━━━━━━━━━━━━━━━━━━━━━━━━╇━━━━━━━━━━━━━━━┩\n",
       "│ embedding_1 (<span style=\"color: #0087ff; text-decoration-color: #0087ff\">Embedding</span>)         │ ?                      │   <span style=\"color: #00af00; text-decoration-color: #00af00\">0</span> (unbuilt) │\n",
       "├─────────────────────────────────┼────────────────────────┼───────────────┤\n",
       "│ lstm_1 (<span style=\"color: #0087ff; text-decoration-color: #0087ff\">LSTM</span>)                   │ ?                      │   <span style=\"color: #00af00; text-decoration-color: #00af00\">0</span> (unbuilt) │\n",
       "├─────────────────────────────────┼────────────────────────┼───────────────┤\n",
       "│ batch_normalization_3           │ ?                      │   <span style=\"color: #00af00; text-decoration-color: #00af00\">0</span> (unbuilt) │\n",
       "│ (<span style=\"color: #0087ff; text-decoration-color: #0087ff\">BatchNormalization</span>)            │                        │               │\n",
       "├─────────────────────────────────┼────────────────────────┼───────────────┤\n",
       "│ dense_4 (<span style=\"color: #0087ff; text-decoration-color: #0087ff\">Dense</span>)                 │ ?                      │   <span style=\"color: #00af00; text-decoration-color: #00af00\">0</span> (unbuilt) │\n",
       "├─────────────────────────────────┼────────────────────────┼───────────────┤\n",
       "│ batch_normalization_4           │ ?                      │   <span style=\"color: #00af00; text-decoration-color: #00af00\">0</span> (unbuilt) │\n",
       "│ (<span style=\"color: #0087ff; text-decoration-color: #0087ff\">BatchNormalization</span>)            │                        │               │\n",
       "├─────────────────────────────────┼────────────────────────┼───────────────┤\n",
       "│ dense_5 (<span style=\"color: #0087ff; text-decoration-color: #0087ff\">Dense</span>)                 │ ?                      │   <span style=\"color: #00af00; text-decoration-color: #00af00\">0</span> (unbuilt) │\n",
       "├─────────────────────────────────┼────────────────────────┼───────────────┤\n",
       "│ batch_normalization_5           │ ?                      │   <span style=\"color: #00af00; text-decoration-color: #00af00\">0</span> (unbuilt) │\n",
       "│ (<span style=\"color: #0087ff; text-decoration-color: #0087ff\">BatchNormalization</span>)            │                        │               │\n",
       "├─────────────────────────────────┼────────────────────────┼───────────────┤\n",
       "│ dense_6 (<span style=\"color: #0087ff; text-decoration-color: #0087ff\">Dense</span>)                 │ ?                      │   <span style=\"color: #00af00; text-decoration-color: #00af00\">0</span> (unbuilt) │\n",
       "├─────────────────────────────────┼────────────────────────┼───────────────┤\n",
       "│ dropout_1 (<span style=\"color: #0087ff; text-decoration-color: #0087ff\">Dropout</span>)             │ ?                      │             <span style=\"color: #00af00; text-decoration-color: #00af00\">0</span> │\n",
       "├─────────────────────────────────┼────────────────────────┼───────────────┤\n",
       "│ dense_7 (<span style=\"color: #0087ff; text-decoration-color: #0087ff\">Dense</span>)                 │ ?                      │   <span style=\"color: #00af00; text-decoration-color: #00af00\">0</span> (unbuilt) │\n",
       "└─────────────────────────────────┴────────────────────────┴───────────────┘\n",
       "</pre>\n"
      ]
     },
     "metadata": {},
     "output_type": "display_data"
    },
    {
     "data": {
      "text/plain": [
       "\u001B[1m Total params: \u001B[0m\u001B[38;5;34m0\u001B[0m (0.00 B)\n"
      ],
      "text/html": [
       "<pre style=\"white-space:pre;overflow-x:auto;line-height:normal;font-family:Menlo,'DejaVu Sans Mono',consolas,'Courier New',monospace\"><span style=\"font-weight: bold\"> Total params: </span><span style=\"color: #00af00; text-decoration-color: #00af00\">0</span> (0.00 B)\n",
       "</pre>\n"
      ]
     },
     "metadata": {},
     "output_type": "display_data"
    },
    {
     "data": {
      "text/plain": [
       "\u001B[1m Trainable params: \u001B[0m\u001B[38;5;34m0\u001B[0m (0.00 B)\n"
      ],
      "text/html": [
       "<pre style=\"white-space:pre;overflow-x:auto;line-height:normal;font-family:Menlo,'DejaVu Sans Mono',consolas,'Courier New',monospace\"><span style=\"font-weight: bold\"> Trainable params: </span><span style=\"color: #00af00; text-decoration-color: #00af00\">0</span> (0.00 B)\n",
       "</pre>\n"
      ]
     },
     "metadata": {},
     "output_type": "display_data"
    },
    {
     "data": {
      "text/plain": [
       "\u001B[1m Non-trainable params: \u001B[0m\u001B[38;5;34m0\u001B[0m (0.00 B)\n"
      ],
      "text/html": [
       "<pre style=\"white-space:pre;overflow-x:auto;line-height:normal;font-family:Menlo,'DejaVu Sans Mono',consolas,'Courier New',monospace\"><span style=\"font-weight: bold\"> Non-trainable params: </span><span style=\"color: #00af00; text-decoration-color: #00af00\">0</span> (0.00 B)\n",
       "</pre>\n"
      ]
     },
     "metadata": {},
     "output_type": "display_data"
    }
   ],
   "execution_count": 42
  },
  {
   "cell_type": "markdown",
   "source": [],
   "metadata": {
    "collapsed": false
   },
   "id": "26c2120930be3e67"
  },
  {
   "cell_type": "code",
   "source": "model.fit(x_train, y_train, epochs=50, batch_size=128, validation_data=(x_test, y_test))",
   "metadata": {
    "collapsed": false,
    "ExecuteTime": {
     "end_time": "2024-10-19T21:01:33.818753Z",
     "start_time": "2024-10-19T21:01:28.896425Z"
    }
   },
   "id": "7c27f0c456286065",
   "outputs": [
    {
     "name": "stdout",
     "output_type": "stream",
     "text": [
      "Epoch 1/50\n",
      "\u001B[1m1/1\u001B[0m \u001B[32m━━━━━━━━━━━━━━━━━━━━\u001B[0m\u001B[37m\u001B[0m \u001B[1m0s\u001B[0m 131ms/step - loss: 0.3796 - recall: 0.5769 - val_loss: 0.5439 - val_recall: 0.0000e+00\n",
      "Epoch 2/50\n",
      "\u001B[1m1/1\u001B[0m \u001B[32m━━━━━━━━━━━━━━━━━━━━\u001B[0m\u001B[37m\u001B[0m \u001B[1m0s\u001B[0m 93ms/step - loss: 0.3400 - recall: 0.6923 - val_loss: 0.5401 - val_recall: 0.0000e+00\n",
      "Epoch 3/50\n",
      "\u001B[1m1/1\u001B[0m \u001B[32m━━━━━━━━━━━━━━━━━━━━\u001B[0m\u001B[37m\u001B[0m \u001B[1m0s\u001B[0m 93ms/step - loss: 0.3647 - recall: 0.5769 - val_loss: 0.5364 - val_recall: 0.0000e+00\n",
      "Epoch 4/50\n",
      "\u001B[1m1/1\u001B[0m \u001B[32m━━━━━━━━━━━━━━━━━━━━\u001B[0m\u001B[37m\u001B[0m \u001B[1m0s\u001B[0m 103ms/step - loss: 0.3739 - recall: 0.6923 - val_loss: 0.5327 - val_recall: 0.0000e+00\n",
      "Epoch 5/50\n",
      "\u001B[1m1/1\u001B[0m \u001B[32m━━━━━━━━━━━━━━━━━━━━\u001B[0m\u001B[37m\u001B[0m \u001B[1m0s\u001B[0m 93ms/step - loss: 0.3520 - recall: 0.5385 - val_loss: 0.5290 - val_recall: 0.0000e+00\n",
      "Epoch 6/50\n",
      "\u001B[1m1/1\u001B[0m \u001B[32m━━━━━━━━━━━━━━━━━━━━\u001B[0m\u001B[37m\u001B[0m \u001B[1m0s\u001B[0m 102ms/step - loss: 0.3624 - recall: 0.6154 - val_loss: 0.5253 - val_recall: 0.0000e+00\n",
      "Epoch 7/50\n",
      "\u001B[1m1/1\u001B[0m \u001B[32m━━━━━━━━━━━━━━━━━━━━\u001B[0m\u001B[37m\u001B[0m \u001B[1m0s\u001B[0m 98ms/step - loss: 0.3311 - recall: 0.6538 - val_loss: 0.5214 - val_recall: 0.0000e+00\n",
      "Epoch 8/50\n",
      "\u001B[1m1/1\u001B[0m \u001B[32m━━━━━━━━━━━━━━━━━━━━\u001B[0m\u001B[37m\u001B[0m \u001B[1m0s\u001B[0m 96ms/step - loss: 0.3439 - recall: 0.6154 - val_loss: 0.5177 - val_recall: 0.0000e+00\n",
      "Epoch 9/50\n",
      "\u001B[1m1/1\u001B[0m \u001B[32m━━━━━━━━━━━━━━━━━━━━\u001B[0m\u001B[37m\u001B[0m \u001B[1m0s\u001B[0m 95ms/step - loss: 0.3160 - recall: 0.6923 - val_loss: 0.5141 - val_recall: 0.0000e+00\n",
      "Epoch 10/50\n",
      "\u001B[1m1/1\u001B[0m \u001B[32m━━━━━━━━━━━━━━━━━━━━\u001B[0m\u001B[37m\u001B[0m \u001B[1m0s\u001B[0m 95ms/step - loss: 0.3141 - recall: 0.7308 - val_loss: 0.5104 - val_recall: 0.0000e+00\n",
      "Epoch 11/50\n",
      "\u001B[1m1/1\u001B[0m \u001B[32m━━━━━━━━━━━━━━━━━━━━\u001B[0m\u001B[37m\u001B[0m \u001B[1m0s\u001B[0m 94ms/step - loss: 0.3205 - recall: 0.7308 - val_loss: 0.5067 - val_recall: 0.0000e+00\n",
      "Epoch 12/50\n",
      "\u001B[1m1/1\u001B[0m \u001B[32m━━━━━━━━━━━━━━━━━━━━\u001B[0m\u001B[37m\u001B[0m \u001B[1m0s\u001B[0m 86ms/step - loss: 0.3285 - recall: 0.6538 - val_loss: 0.5030 - val_recall: 0.0000e+00\n",
      "Epoch 13/50\n",
      "\u001B[1m1/1\u001B[0m \u001B[32m━━━━━━━━━━━━━━━━━━━━\u001B[0m\u001B[37m\u001B[0m \u001B[1m0s\u001B[0m 86ms/step - loss: 0.3079 - recall: 0.6923 - val_loss: 0.4993 - val_recall: 0.0000e+00\n",
      "Epoch 14/50\n",
      "\u001B[1m1/1\u001B[0m \u001B[32m━━━━━━━━━━━━━━━━━━━━\u001B[0m\u001B[37m\u001B[0m \u001B[1m0s\u001B[0m 91ms/step - loss: 0.3050 - recall: 0.7692 - val_loss: 0.4957 - val_recall: 0.0000e+00\n",
      "Epoch 15/50\n",
      "\u001B[1m1/1\u001B[0m \u001B[32m━━━━━━━━━━━━━━━━━━━━\u001B[0m\u001B[37m\u001B[0m \u001B[1m0s\u001B[0m 90ms/step - loss: 0.2957 - recall: 0.5385 - val_loss: 0.4920 - val_recall: 0.0000e+00\n",
      "Epoch 16/50\n",
      "\u001B[1m1/1\u001B[0m \u001B[32m━━━━━━━━━━━━━━━━━━━━\u001B[0m\u001B[37m\u001B[0m \u001B[1m0s\u001B[0m 86ms/step - loss: 0.3141 - recall: 0.5385 - val_loss: 0.4885 - val_recall: 0.0000e+00\n",
      "Epoch 17/50\n",
      "\u001B[1m1/1\u001B[0m \u001B[32m━━━━━━━━━━━━━━━━━━━━\u001B[0m\u001B[37m\u001B[0m \u001B[1m0s\u001B[0m 95ms/step - loss: 0.2817 - recall: 0.5769 - val_loss: 0.4851 - val_recall: 0.0000e+00\n",
      "Epoch 18/50\n",
      "\u001B[1m1/1\u001B[0m \u001B[32m━━━━━━━━━━━━━━━━━━━━\u001B[0m\u001B[37m\u001B[0m \u001B[1m0s\u001B[0m 97ms/step - loss: 0.3153 - recall: 0.6154 - val_loss: 0.4816 - val_recall: 0.0000e+00\n",
      "Epoch 19/50\n",
      "\u001B[1m1/1\u001B[0m \u001B[32m━━━━━━━━━━━━━━━━━━━━\u001B[0m\u001B[37m\u001B[0m \u001B[1m0s\u001B[0m 100ms/step - loss: 0.2760 - recall: 0.7308 - val_loss: 0.4782 - val_recall: 0.0000e+00\n",
      "Epoch 20/50\n",
      "\u001B[1m1/1\u001B[0m \u001B[32m━━━━━━━━━━━━━━━━━━━━\u001B[0m\u001B[37m\u001B[0m \u001B[1m0s\u001B[0m 91ms/step - loss: 0.2951 - recall: 0.5769 - val_loss: 0.4749 - val_recall: 0.0000e+00\n",
      "Epoch 21/50\n",
      "\u001B[1m1/1\u001B[0m \u001B[32m━━━━━━━━━━━━━━━━━━━━\u001B[0m\u001B[37m\u001B[0m \u001B[1m0s\u001B[0m 85ms/step - loss: 0.2993 - recall: 0.7692 - val_loss: 0.4715 - val_recall: 0.0000e+00\n",
      "Epoch 22/50\n",
      "\u001B[1m1/1\u001B[0m \u001B[32m━━━━━━━━━━━━━━━━━━━━\u001B[0m\u001B[37m\u001B[0m \u001B[1m0s\u001B[0m 92ms/step - loss: 0.2494 - recall: 0.6538 - val_loss: 0.4681 - val_recall: 0.0000e+00\n",
      "Epoch 23/50\n",
      "\u001B[1m1/1\u001B[0m \u001B[32m━━━━━━━━━━━━━━━━━━━━\u001B[0m\u001B[37m\u001B[0m \u001B[1m0s\u001B[0m 90ms/step - loss: 0.2591 - recall: 0.7692 - val_loss: 0.4647 - val_recall: 0.0000e+00\n",
      "Epoch 24/50\n",
      "\u001B[1m1/1\u001B[0m \u001B[32m━━━━━━━━━━━━━━━━━━━━\u001B[0m\u001B[37m\u001B[0m \u001B[1m0s\u001B[0m 87ms/step - loss: 0.2511 - recall: 0.6923 - val_loss: 0.4613 - val_recall: 0.0000e+00\n",
      "Epoch 25/50\n",
      "\u001B[1m1/1\u001B[0m \u001B[32m━━━━━━━━━━━━━━━━━━━━\u001B[0m\u001B[37m\u001B[0m \u001B[1m0s\u001B[0m 90ms/step - loss: 0.2952 - recall: 0.5000 - val_loss: 0.4579 - val_recall: 0.0000e+00\n",
      "Epoch 26/50\n",
      "\u001B[1m1/1\u001B[0m \u001B[32m━━━━━━━━━━━━━━━━━━━━\u001B[0m\u001B[37m\u001B[0m \u001B[1m0s\u001B[0m 90ms/step - loss: 0.2670 - recall: 0.5385 - val_loss: 0.4545 - val_recall: 0.0000e+00\n",
      "Epoch 27/50\n",
      "\u001B[1m1/1\u001B[0m \u001B[32m━━━━━━━━━━━━━━━━━━━━\u001B[0m\u001B[37m\u001B[0m \u001B[1m0s\u001B[0m 92ms/step - loss: 0.2513 - recall: 0.6154 - val_loss: 0.4510 - val_recall: 0.0000e+00\n",
      "Epoch 28/50\n",
      "\u001B[1m1/1\u001B[0m \u001B[32m━━━━━━━━━━━━━━━━━━━━\u001B[0m\u001B[37m\u001B[0m \u001B[1m0s\u001B[0m 89ms/step - loss: 0.2795 - recall: 0.8077 - val_loss: 0.4476 - val_recall: 0.0000e+00\n",
      "Epoch 29/50\n",
      "\u001B[1m1/1\u001B[0m \u001B[32m━━━━━━━━━━━━━━━━━━━━\u001B[0m\u001B[37m\u001B[0m \u001B[1m0s\u001B[0m 88ms/step - loss: 0.2598 - recall: 0.5385 - val_loss: 0.4442 - val_recall: 0.0000e+00\n",
      "Epoch 30/50\n",
      "\u001B[1m1/1\u001B[0m \u001B[32m━━━━━━━━━━━━━━━━━━━━\u001B[0m\u001B[37m\u001B[0m \u001B[1m0s\u001B[0m 88ms/step - loss: 0.2356 - recall: 0.7692 - val_loss: 0.4408 - val_recall: 0.0000e+00\n",
      "Epoch 31/50\n",
      "\u001B[1m1/1\u001B[0m \u001B[32m━━━━━━━━━━━━━━━━━━━━\u001B[0m\u001B[37m\u001B[0m \u001B[1m0s\u001B[0m 86ms/step - loss: 0.2647 - recall: 0.6538 - val_loss: 0.4373 - val_recall: 0.0000e+00\n",
      "Epoch 32/50\n",
      "\u001B[1m1/1\u001B[0m \u001B[32m━━━━━━━━━━━━━━━━━━━━\u001B[0m\u001B[37m\u001B[0m \u001B[1m0s\u001B[0m 86ms/step - loss: 0.2585 - recall: 0.7692 - val_loss: 0.4339 - val_recall: 0.0000e+00\n",
      "Epoch 33/50\n",
      "\u001B[1m1/1\u001B[0m \u001B[32m━━━━━━━━━━━━━━━━━━━━\u001B[0m\u001B[37m\u001B[0m \u001B[1m0s\u001B[0m 90ms/step - loss: 0.2645 - recall: 0.8846 - val_loss: 0.4306 - val_recall: 0.0000e+00\n",
      "Epoch 34/50\n",
      "\u001B[1m1/1\u001B[0m \u001B[32m━━━━━━━━━━━━━━━━━━━━\u001B[0m\u001B[37m\u001B[0m \u001B[1m0s\u001B[0m 86ms/step - loss: 0.2713 - recall: 0.6923 - val_loss: 0.4273 - val_recall: 0.0000e+00\n",
      "Epoch 35/50\n",
      "\u001B[1m1/1\u001B[0m \u001B[32m━━━━━━━━━━━━━━━━━━━━\u001B[0m\u001B[37m\u001B[0m \u001B[1m0s\u001B[0m 88ms/step - loss: 0.2428 - recall: 0.5769 - val_loss: 0.4239 - val_recall: 0.0000e+00\n",
      "Epoch 36/50\n",
      "\u001B[1m1/1\u001B[0m \u001B[32m━━━━━━━━━━━━━━━━━━━━\u001B[0m\u001B[37m\u001B[0m \u001B[1m0s\u001B[0m 91ms/step - loss: 0.2786 - recall: 0.6538 - val_loss: 0.4206 - val_recall: 0.0000e+00\n",
      "Epoch 37/50\n",
      "\u001B[1m1/1\u001B[0m \u001B[32m━━━━━━━━━━━━━━━━━━━━\u001B[0m\u001B[37m\u001B[0m \u001B[1m0s\u001B[0m 96ms/step - loss: 0.2653 - recall: 0.6923 - val_loss: 0.4173 - val_recall: 0.0000e+00\n",
      "Epoch 38/50\n",
      "\u001B[1m1/1\u001B[0m \u001B[32m━━━━━━━━━━━━━━━━━━━━\u001B[0m\u001B[37m\u001B[0m \u001B[1m0s\u001B[0m 93ms/step - loss: 0.2471 - recall: 0.7308 - val_loss: 0.4140 - val_recall: 0.0000e+00\n",
      "Epoch 39/50\n",
      "\u001B[1m1/1\u001B[0m \u001B[32m━━━━━━━━━━━━━━━━━━━━\u001B[0m\u001B[37m\u001B[0m \u001B[1m0s\u001B[0m 101ms/step - loss: 0.2646 - recall: 0.6923 - val_loss: 0.4107 - val_recall: 0.0000e+00\n",
      "Epoch 40/50\n",
      "\u001B[1m1/1\u001B[0m \u001B[32m━━━━━━━━━━━━━━━━━━━━\u001B[0m\u001B[37m\u001B[0m \u001B[1m0s\u001B[0m 101ms/step - loss: 0.2613 - recall: 0.5769 - val_loss: 0.4075 - val_recall: 0.0000e+00\n",
      "Epoch 41/50\n",
      "\u001B[1m1/1\u001B[0m \u001B[32m━━━━━━━━━━━━━━━━━━━━\u001B[0m\u001B[37m\u001B[0m \u001B[1m0s\u001B[0m 100ms/step - loss: 0.2625 - recall: 0.6923 - val_loss: 0.4044 - val_recall: 0.0000e+00\n",
      "Epoch 42/50\n",
      "\u001B[1m1/1\u001B[0m \u001B[32m━━━━━━━━━━━━━━━━━━━━\u001B[0m\u001B[37m\u001B[0m \u001B[1m0s\u001B[0m 94ms/step - loss: 0.2171 - recall: 0.5385 - val_loss: 0.4014 - val_recall: 0.0000e+00\n",
      "Epoch 43/50\n",
      "\u001B[1m1/1\u001B[0m \u001B[32m━━━━━━━━━━━━━━━━━━━━\u001B[0m\u001B[37m\u001B[0m \u001B[1m0s\u001B[0m 94ms/step - loss: 0.2291 - recall: 0.7308 - val_loss: 0.3985 - val_recall: 0.0000e+00\n",
      "Epoch 44/50\n",
      "\u001B[1m1/1\u001B[0m \u001B[32m━━━━━━━━━━━━━━━━━━━━\u001B[0m\u001B[37m\u001B[0m \u001B[1m0s\u001B[0m 95ms/step - loss: 0.2301 - recall: 0.7308 - val_loss: 0.3955 - val_recall: 0.0000e+00\n",
      "Epoch 45/50\n",
      "\u001B[1m1/1\u001B[0m \u001B[32m━━━━━━━━━━━━━━━━━━━━\u001B[0m\u001B[37m\u001B[0m \u001B[1m0s\u001B[0m 91ms/step - loss: 0.2141 - recall: 0.8077 - val_loss: 0.3925 - val_recall: 0.0000e+00\n",
      "Epoch 46/50\n",
      "\u001B[1m1/1\u001B[0m \u001B[32m━━━━━━━━━━━━━━━━━━━━\u001B[0m\u001B[37m\u001B[0m \u001B[1m0s\u001B[0m 90ms/step - loss: 0.2544 - recall: 0.6538 - val_loss: 0.3895 - val_recall: 0.0000e+00\n",
      "Epoch 47/50\n",
      "\u001B[1m1/1\u001B[0m \u001B[32m━━━━━━━━━━━━━━━━━━━━\u001B[0m\u001B[37m\u001B[0m \u001B[1m0s\u001B[0m 94ms/step - loss: 0.1889 - recall: 0.7308 - val_loss: 0.3865 - val_recall: 0.0000e+00\n",
      "Epoch 48/50\n",
      "\u001B[1m1/1\u001B[0m \u001B[32m━━━━━━━━━━━━━━━━━━━━\u001B[0m\u001B[37m\u001B[0m \u001B[1m0s\u001B[0m 89ms/step - loss: 0.2341 - recall: 0.7692 - val_loss: 0.3835 - val_recall: 0.0000e+00\n",
      "Epoch 49/50\n",
      "\u001B[1m1/1\u001B[0m \u001B[32m━━━━━━━━━━━━━━━━━━━━\u001B[0m\u001B[37m\u001B[0m \u001B[1m0s\u001B[0m 89ms/step - loss: 0.2018 - recall: 0.7692 - val_loss: 0.3806 - val_recall: 0.0000e+00\n",
      "Epoch 50/50\n",
      "\u001B[1m1/1\u001B[0m \u001B[32m━━━━━━━━━━━━━━━━━━━━\u001B[0m\u001B[37m\u001B[0m \u001B[1m0s\u001B[0m 90ms/step - loss: 0.1998 - recall: 0.9231 - val_loss: 0.3778 - val_recall: 0.0000e+00\n"
     ]
    },
    {
     "data": {
      "text/plain": [
       "<keras.src.callbacks.history.History at 0x1d1b157eed0>"
      ]
     },
     "execution_count": 47,
     "metadata": {},
     "output_type": "execute_result"
    }
   ],
   "execution_count": 47
  },
  {
   "cell_type": "code",
   "source": [
    "def get_max_index(array):\n",
    "    maximum_index = 0\n",
    "    maximum_value = array[0]\n",
    "    \n",
    "    for i in range(1, len(array)):\n",
    "        if array[i] >maximum_value:\n",
    "            maximum_value = array[i]\n",
    "            maximum_index = i\n",
    "    \n",
    "    return maximum_index + 1"
   ],
   "metadata": {
    "collapsed": false,
    "ExecuteTime": {
     "end_time": "2024-10-19T19:16:08.165541Z",
     "start_time": "2024-10-19T19:16:08.161165Z"
    }
   },
   "id": "18d78470e2c99a90",
   "outputs": [],
   "execution_count": 13
  },
  {
   "cell_type": "code",
   "source": [
    "from_preproc1 = [tokenize_words(i) for i in [\"Какая специальности 09.02.01\"]]\n",
    "\n",
    "new_text1 = tokenizer.texts_to_sequences(from_preproc1)\n",
    "\n",
    "new_text1 = np.array([to_max_words(phrase, max_words_in_text) for phrase in new_text1])\n",
    "what_predict = model.predict(new_text1)\n",
    "print(what_predict)\n",
    "print(get_max_index(what_predict[0]))\n",
    "print(class_responses.get(get_max_index(what_predict[0])))"
   ],
   "metadata": {
    "collapsed": false,
    "ExecuteTime": {
     "end_time": "2024-10-19T21:01:39.482927Z",
     "start_time": "2024-10-19T21:01:39.403645Z"
    }
   },
   "id": "18e417019e5d7e06",
   "outputs": [
    {
     "name": "stdout",
     "output_type": "stream",
     "text": [
      "\u001B[1m1/1\u001B[0m \u001B[32m━━━━━━━━━━━━━━━━━━━━\u001B[0m\u001B[37m\u001B[0m \u001B[1m0s\u001B[0m 28ms/step\n",
      "[[0.16403848 0.33265805 0.20278214 0.20858194 0.16915514 0.4211623\n",
      "  0.21149477 0.32583505 0.28201318 0.26038438 0.2720762  0.16667894\n",
      "  0.17757002 0.30711392]]\n",
      "6\n",
      "Выпускникам специальности 40.02.04 присваивается квалификация \"Юрист\"\n"
     ]
    }
   ],
   "execution_count": 49
  }
 ],
 "metadata": {
  "kernelspec": {
   "display_name": "Python 3",
   "language": "python",
   "name": "python3"
  },
  "language_info": {
   "codemirror_mode": {
    "name": "ipython",
    "version": 2
   },
   "file_extension": ".py",
   "mimetype": "text/x-python",
   "name": "python",
   "nbconvert_exporter": "python",
   "pygments_lexer": "ipython2",
   "version": "2.7.6"
  }
 },
 "nbformat": 4,
 "nbformat_minor": 5
}
