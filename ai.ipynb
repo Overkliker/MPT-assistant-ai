{
 "cells": [
  {
   "cell_type": "code",
   "id": "initial_id",
   "metadata": {
    "collapsed": true,
    "ExecuteTime": {
     "end_time": "2024-10-14T20:11:30.501151Z",
     "start_time": "2024-10-14T20:09:49.777152Z"
    }
   },
   "source": [
    "import pandas as pd\n",
    "import torch\n",
    "import nltk\n",
    "import re\n",
    "\n",
    "nltk.download(\"stopwords\")\n",
    "nltk.download('punkt')\n",
    "nltk.download('wordnet')\n",
    "from nltk.corpus import stopwords"
   ],
   "outputs": [
    {
     "name": "stderr",
     "output_type": "stream",
     "text": [
      "[nltk_data] Downloading package stopwords to\n",
      "[nltk_data]     C:\\Users\\Kliker\\AppData\\Roaming\\nltk_data...\n",
      "[nltk_data]   Unzipping corpora\\stopwords.zip.\n",
      "[nltk_data] Downloading package punkt to\n",
      "[nltk_data]     C:\\Users\\Kliker\\AppData\\Roaming\\nltk_data...\n",
      "[nltk_data]   Unzipping tokenizers\\punkt.zip.\n",
      "[nltk_data] Downloading package wordnet to\n",
      "[nltk_data]     C:\\Users\\Kliker\\AppData\\Roaming\\nltk_data...\n"
     ]
    }
   ],
   "execution_count": 7
  },
  {
   "cell_type": "code",
   "source": [
    "df = pd.read_csv('questions2.csv', delimiter=\";\")\n",
    "\n",
    "df.head()"
   ],
   "metadata": {
    "collapsed": false,
    "ExecuteTime": {
     "end_time": "2024-10-14T20:32:43.802668Z",
     "start_time": "2024-10-14T20:32:43.784668Z"
    }
   },
   "id": "d29a5161797ddf6b",
   "outputs": [
    {
     "data": {
      "text/plain": [
       "                                            question  \\\n",
       "0  Какая квалификация присваивается выпускникам т...   \n",
       "1  Какая квалификация присваивается выпускникам т...   \n",
       "2  Какая квалификация присваивается выпускникам  ...   \n",
       "3  Какая квалификация присваивается выпускникам с...   \n",
       "4  Какая квалификация присваивается выпускникам с...   \n",
       "\n",
       "                                            response  Unnamed: 2  \n",
       "0  Выпускникам  специальности 09.02.01 \"Компьютер...         NaN  \n",
       "1  Выпускникам  специальности 09.02.06 \"Сетевое и...         NaN  \n",
       "2  Выпускникам специальности 09.02.08 присваивает...         NaN  \n",
       "3  Выпускникам специальности  10.02.05 присваивае...         NaN  \n",
       "4  Выпускникам специальности 25.02.08 присваивает...         NaN  "
      ],
      "text/html": [
       "<div>\n",
       "<style scoped>\n",
       "    .dataframe tbody tr th:only-of-type {\n",
       "        vertical-align: middle;\n",
       "    }\n",
       "\n",
       "    .dataframe tbody tr th {\n",
       "        vertical-align: top;\n",
       "    }\n",
       "\n",
       "    .dataframe thead th {\n",
       "        text-align: right;\n",
       "    }\n",
       "</style>\n",
       "<table border=\"1\" class=\"dataframe\">\n",
       "  <thead>\n",
       "    <tr style=\"text-align: right;\">\n",
       "      <th></th>\n",
       "      <th>question</th>\n",
       "      <th>response</th>\n",
       "      <th>Unnamed: 2</th>\n",
       "    </tr>\n",
       "  </thead>\n",
       "  <tbody>\n",
       "    <tr>\n",
       "      <th>0</th>\n",
       "      <td>Какая квалификация присваивается выпускникам т...</td>\n",
       "      <td>Выпускникам  специальности 09.02.01 \"Компьютер...</td>\n",
       "      <td>NaN</td>\n",
       "    </tr>\n",
       "    <tr>\n",
       "      <th>1</th>\n",
       "      <td>Какая квалификация присваивается выпускникам т...</td>\n",
       "      <td>Выпускникам  специальности 09.02.06 \"Сетевое и...</td>\n",
       "      <td>NaN</td>\n",
       "    </tr>\n",
       "    <tr>\n",
       "      <th>2</th>\n",
       "      <td>Какая квалификация присваивается выпускникам  ...</td>\n",
       "      <td>Выпускникам специальности 09.02.08 присваивает...</td>\n",
       "      <td>NaN</td>\n",
       "    </tr>\n",
       "    <tr>\n",
       "      <th>3</th>\n",
       "      <td>Какая квалификация присваивается выпускникам с...</td>\n",
       "      <td>Выпускникам специальности  10.02.05 присваивае...</td>\n",
       "      <td>NaN</td>\n",
       "    </tr>\n",
       "    <tr>\n",
       "      <th>4</th>\n",
       "      <td>Какая квалификация присваивается выпускникам с...</td>\n",
       "      <td>Выпускникам специальности 25.02.08 присваивает...</td>\n",
       "      <td>NaN</td>\n",
       "    </tr>\n",
       "  </tbody>\n",
       "</table>\n",
       "</div>"
      ]
     },
     "execution_count": 30,
     "metadata": {},
     "output_type": "execute_result"
    }
   ],
   "execution_count": 30
  },
  {
   "cell_type": "code",
   "source": [
    "\n",
    "new_text = []\n",
    "lemmatize = nltk.WordNetLemmatizer()\n",
    "\n",
    "for i in df.question:\n",
    "    text = text.replace('\"', '')\n",
    "    text = re.sub('[^a-zA-Z]',\" \",i)\n",
    "    \n",
    "    text = nltk.word_tokenize(text, language=\"russian\")\n",
    "    text = [lemmatize.lemmatize(word) for word in i]\n",
    "    \n",
    "    text = \"\".join(text)\n",
    "    \n",
    "    new_text.append(text)\n",
    "\n",
    "print(new_text)"
   ],
   "metadata": {
    "collapsed": false,
    "ExecuteTime": {
     "end_time": "2024-10-14T20:32:47.249669Z",
     "start_time": "2024-10-14T20:32:47.226668Z"
    }
   },
   "id": "2d43ccfee5d7e59e",
   "outputs": [
    {
     "name": "stdout",
     "output_type": "stream",
     "text": [
      "['Какая квалификация присваивается выпускникам техникума по специальности 09.02.01 Компьютерные системы и комплексы', 'Какая квалификация присваивается выпускникам техникума по специальности 09.02.06 Сетевое и системное адмирнистрирование', 'Какая квалификация присваивается выпускникам  специальности 09.02.098 WEB разработка', 'Какая квалификация присваивается выпускникам специальности 10.02.05 Обеспечение инфофрмационной безопасности автоматизированных систем', 'Какая квалификация присваивается выпускникам специальности 25.02.08 Эксплуатация беспилотных авиационных систем', 'Какая квалификация присваивается  выпускникам специальности 40.02.04 Юриспруденция', 'Какая квалификация присваивается выпускникам специальности 09.02.07 Информационны системы и программитрование', 'Как осуществляется оплата обучения- сразу за учебный год?', 'Когда начало приема документов  в техникум', 'Когда начало учебного годая у студентов', 'По какому адресу учатся студенты?', 'Можно ли оплачивать обучение из средств материнского капитала?', 'Выплачивается ли студентам-бюджетникам стипендия', 'Можно ли прислать документы в приёмную комиссию в электронноом виде?', 'Начало приема документов']\n"
     ]
    }
   ],
   "execution_count": 31
  },
  {
   "metadata": {
    "ExecuteTime": {
     "end_time": "2024-10-14T20:32:49.547667Z",
     "start_time": "2024-10-14T20:32:49.523669Z"
    }
   },
   "cell_type": "code",
   "source": [
    "from sklearn.feature_extraction.text import TfidfVectorizer\n",
    "\n",
    "count = TfidfVectorizer()\n",
    "matrix_words = count.fit_transform(new_text).toarray()\n",
    "print(matrix_words[0])"
   ],
   "id": "37f2dab02a1f6391",
   "outputs": [
    {
     "name": "stdout",
     "output_type": "stream",
     "text": [
      "[0.36721667 0.2019041  0.         0.         0.         0.\n",
      " 0.         0.257951   0.         0.         0.         0.\n",
      " 0.         0.         0.         0.         0.         0.\n",
      " 0.         0.         0.         0.         0.2019041  0.\n",
      " 0.         0.         0.         0.         0.         0.\n",
      " 0.         0.         0.2019041  0.         0.         0.2019041\n",
      " 0.         0.         0.36721667 0.36721667 0.         0.\n",
      " 0.         0.         0.         0.         0.         0.\n",
      " 0.         0.         0.28456038 0.         0.2019041  0.\n",
      " 0.         0.         0.         0.         0.         0.\n",
      " 0.31886584 0.2019041  0.         0.         0.         0.\n",
      " 0.         0.         0.         0.31886584 0.         0.\n",
      " 0.         0.         0.         0.        ]\n"
     ]
    }
   ],
   "execution_count": 32
  },
  {
   "metadata": {
    "ExecuteTime": {
     "end_time": "2024-10-14T20:32:52.146667Z",
     "start_time": "2024-10-14T20:32:52.122670Z"
    }
   },
   "cell_type": "code",
   "source": [
    "from sklearn.preprocessing import LabelEncoder\n",
    "\n",
    "labelencoder = LabelEncoder()\n",
    "\n",
    "class_responses = labelencoder.fit_transform(df.loc[:, \"response\"])\n",
    "\n",
    "class_responses"
   ],
   "id": "92410dba4d8b46ed",
   "outputs": [
    {
     "data": {
      "text/plain": [
       "array([ 0,  1,  4,  2,  5,  6,  3,  9, 11,  7, 13,  8, 12, 10, 11])"
      ]
     },
     "execution_count": 33,
     "metadata": {},
     "output_type": "execute_result"
    }
   ],
   "execution_count": 33
  },
  {
   "metadata": {
    "ExecuteTime": {
     "end_time": "2024-10-14T20:33:37.483668Z",
     "start_time": "2024-10-14T20:33:37.472669Z"
    }
   },
   "cell_type": "code",
   "source": [
    "X = matrix_words\n",
    "y = class_responses"
   ],
   "id": "17d3fe08b854b226",
   "outputs": [],
   "execution_count": 34
  },
  {
   "metadata": {
    "ExecuteTime": {
     "end_time": "2024-10-14T20:35:20.133669Z",
     "start_time": "2024-10-14T20:35:20.114669Z"
    }
   },
   "cell_type": "code",
   "source": [
    "from sklearn.model_selection import train_test_split\n",
    "\n",
    "x_train, x_test, y_train, y_test = train_test_split(X, y, test_size=0.33)"
   ],
   "id": "61b8e0d15e141ee3",
   "outputs": [],
   "execution_count": 36
  },
  {
   "metadata": {},
   "cell_type": "code",
   "outputs": [],
   "execution_count": null,
   "source": "",
   "id": "d70313833561b92"
  }
 ],
 "metadata": {
  "kernelspec": {
   "display_name": "Python 3",
   "language": "python",
   "name": "python3"
  },
  "language_info": {
   "codemirror_mode": {
    "name": "ipython",
    "version": 2
   },
   "file_extension": ".py",
   "mimetype": "text/x-python",
   "name": "python",
   "nbconvert_exporter": "python",
   "pygments_lexer": "ipython2",
   "version": "2.7.6"
  }
 },
 "nbformat": 4,
 "nbformat_minor": 5
}
