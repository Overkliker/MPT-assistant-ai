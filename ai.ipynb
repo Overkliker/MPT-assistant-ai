{
 "cells": [
  {
   "cell_type": "code",
   "id": "initial_id",
   "metadata": {
    "collapsed": true,
    "ExecuteTime": {
     "end_time": "2024-10-17T06:20:32.533045100Z",
     "start_time": "2024-10-17T06:20:27.742942300Z"
    }
   },
   "source": [
    "import numpy as np\n",
    "import pandas as pd\n",
    "from tensorflow import keras\n",
    "import numpy as np\n",
    "from keras_preprocessing.text import Tokenizer\n",
    "import re"
   ],
   "outputs": [],
   "execution_count": 1
  },
  {
   "cell_type": "code",
   "source": [
    "df = pd.read_csv('questions2.csv', delimiter=\";\")\n",
    "\n",
    "df.head(50)"
   ],
   "metadata": {
    "collapsed": false,
    "ExecuteTime": {
     "end_time": "2024-10-17T11:49:56.622646800Z",
     "start_time": "2024-10-17T11:49:56.565820400Z"
    }
   },
   "id": "d29a5161797ddf6b",
   "outputs": [
    {
     "data": {
      "text/plain": "                                             question  \\\n0   Какая квалификация присваивается выпускникам т...   \n1   Какая квалификация присваивается выпускникам т...   \n2   Какая квалификация присваивается выпускникам  ...   \n3   Какая квалификация присваивается выпускникам с...   \n4   Какая квалификация присваивается выпускникам с...   \n5   Какая квалификация присваивается  выпускникам ...   \n6   Какая квалификация присваивается выпускникам с...   \n7   Как осуществляется оплата обучения- сразу за у...   \n8          Когда начало приема документов  в техникум   \n9             Когда начало учебного годая у студентов   \n10                  По какому адресу учатся студенты?   \n11  Можно ли оплачивать обучение из средств матери...   \n12   Выплачивается ли студентам-бюджетникам стипендия   \n13  Можно ли прислать документы в приёмную комисси...   \n14                           Начало приема документов   \n15  Какая квалификация присваивается выпускникам т...   \n16                              Квалификация 09.02.01   \n17                              Квалификация 09.02.06   \n18                              Квалификация 09.02.08   \n19                              Квалификация 10.02.05   \n20                              Квалификация 25.02.08   \n21                              Квалификация 40.02.04   \n22                              Квалификация 09.02.07   \n23                             Оплата обучения за год   \n24                           Начало приема документов   \n25                               Начало учебного года   \n26                                     Адрес обучения   \n27                       Оплата материнским капиталом   \n28                          Стипендия для бюджетников   \n29                    Электронная отправка документов   \n30                           Начало приема документов   \n31                              Квалификация 09.02.01   \n32  Какая квалификация присваивается студентам тех...   \n33  Какую квалификацию получают студенты техникума...   \n34  Какую квалификацию получают студентам техникум...   \n35  Какую квалификацию получают студенты техникума...   \n36  Какую квалификацию получают студенты техникума...   \n37  Какую квалификацию получают студенты техникума...   \n38  Какую квалификацию получают студенты техникума...   \n39  Как осуществляется оплата обучения — сразу за ...   \n40       Когда начинается прием документов в техникум   \n41           Когда начинается учебный год у студентов   \n42      По какому адресу проходят занятия у студентов   \n43  Можно ли использовать средства материнского ка...   \n44   Выплачивается ли студентам-бюджетникам стипендия   \n45  Можно ли отправить документы в приемную комисс...   \n\n                                             response  Unnamed: 2  \n0   Выпускникам  специальности 09.02.01 \"Компьютер...         NaN  \n1   Выпускникам  специальности 09.02.06 \"Сетевое и...         NaN  \n2   Выпускникам специальности 09.02.08 присваивает...         NaN  \n3   Выпускникам специальности 10.02.05 присваивает...         NaN  \n4   Выпускникам специальности 25.02.08 присваивает...         NaN  \n5   Выпускникам специальности 40.02.04 присваивает...         NaN  \n6   Выпускникам специальности 09.02.07 присваивает...         NaN  \n7         Оплата обучения осуществляется по семестрам         NaN  \n8   Прием докуменнтов для поступления проходит с 2...         NaN  \n9   Начало учебного года у студентов всех курсов 1...         NaN  \n10  Студенты первокусники всех специальностей обуч...         NaN  \n11  Оплата обучения материнским капиталом возможна...         NaN  \n12  С 1 сентября по 31 декабря государственная ака...         NaN  \n13  Поступающие вправе направить в колледж заявлен...         NaN  \n14  Прием докуменнтов для поступления проходит с 2...         NaN  \n15  Выпускникам  специальности 09.02.01 \"Компьютер...         NaN  \n16  Выпускникам  специальности 09.02.01 \"Компьютер...         NaN  \n17  Выпускникам  специальности 09.02.06 \"Сетевое и...         NaN  \n18  Выпускникам специальности 09.02.08 присваивает...         NaN  \n19  Выпускникам специальности 10.02.05 присваивает...         NaN  \n20  Выпускникам специальности 25.02.08 присваивает...         NaN  \n21  Выпускникам специальности 40.02.04 присваивает...         NaN  \n22  Выпускникам специальности 09.02.07 присваивает...         NaN  \n23        Оплата обучения осуществляется по семестрам         NaN  \n24  Прием докуменнтов для поступления проходит с 2...         NaN  \n25  Начало учебного года у студентов всех курсов 1...         NaN  \n26  Студенты первокусники всех специальностей обуч...         NaN  \n27  Оплата обучения материнским капиталом возможна...         NaN  \n28  С 1 сентября по 31 декабря государственная ака...         NaN  \n29  Поступающие вправе направить в колледж заявлен...         NaN  \n30  Прием докуменнтов для поступления проходит с 2...         NaN  \n31  Выпускникам  специальности 09.02.01 \"Компьютер...         NaN  \n32  Выпускникам  специальности 09.02.01 \"Компьютер...         NaN  \n33  Выпускникам  специальности 09.02.06 \"Сетевое и...         NaN  \n34  Выпускникам специальности 09.02.08 присваивает...         NaN  \n35  Выпускникам специальности 10.02.05 присваивает...         NaN  \n36  Выпускникам специальности 25.02.08 присваивает...         NaN  \n37  Выпускникам специальности 40.02.04 присваивает...         NaN  \n38  Выпускникам специальности 09.02.07 присваивает...         NaN  \n39        Оплата обучения осуществляется по семестрам         NaN  \n40  Прием докуменнтов для поступления проходит с 2...         NaN  \n41  Начало учебного года у студентов всех курсов 1...         NaN  \n42  Студенты первокусники всех специальностей обуч...         NaN  \n43  Оплата обучения материнским капиталом возможна...         NaN  \n44  С 1 сентября по 31 декабря государственная ака...         NaN  \n45  Поступающие вправе направить в колледж заявлен...         NaN  ",
      "text/html": "<div>\n<style scoped>\n    .dataframe tbody tr th:only-of-type {\n        vertical-align: middle;\n    }\n\n    .dataframe tbody tr th {\n        vertical-align: top;\n    }\n\n    .dataframe thead th {\n        text-align: right;\n    }\n</style>\n<table border=\"1\" class=\"dataframe\">\n  <thead>\n    <tr style=\"text-align: right;\">\n      <th></th>\n      <th>question</th>\n      <th>response</th>\n      <th>Unnamed: 2</th>\n    </tr>\n  </thead>\n  <tbody>\n    <tr>\n      <th>0</th>\n      <td>Какая квалификация присваивается выпускникам т...</td>\n      <td>Выпускникам  специальности 09.02.01 \"Компьютер...</td>\n      <td>NaN</td>\n    </tr>\n    <tr>\n      <th>1</th>\n      <td>Какая квалификация присваивается выпускникам т...</td>\n      <td>Выпускникам  специальности 09.02.06 \"Сетевое и...</td>\n      <td>NaN</td>\n    </tr>\n    <tr>\n      <th>2</th>\n      <td>Какая квалификация присваивается выпускникам  ...</td>\n      <td>Выпускникам специальности 09.02.08 присваивает...</td>\n      <td>NaN</td>\n    </tr>\n    <tr>\n      <th>3</th>\n      <td>Какая квалификация присваивается выпускникам с...</td>\n      <td>Выпускникам специальности 10.02.05 присваивает...</td>\n      <td>NaN</td>\n    </tr>\n    <tr>\n      <th>4</th>\n      <td>Какая квалификация присваивается выпускникам с...</td>\n      <td>Выпускникам специальности 25.02.08 присваивает...</td>\n      <td>NaN</td>\n    </tr>\n    <tr>\n      <th>5</th>\n      <td>Какая квалификация присваивается  выпускникам ...</td>\n      <td>Выпускникам специальности 40.02.04 присваивает...</td>\n      <td>NaN</td>\n    </tr>\n    <tr>\n      <th>6</th>\n      <td>Какая квалификация присваивается выпускникам с...</td>\n      <td>Выпускникам специальности 09.02.07 присваивает...</td>\n      <td>NaN</td>\n    </tr>\n    <tr>\n      <th>7</th>\n      <td>Как осуществляется оплата обучения- сразу за у...</td>\n      <td>Оплата обучения осуществляется по семестрам</td>\n      <td>NaN</td>\n    </tr>\n    <tr>\n      <th>8</th>\n      <td>Когда начало приема документов  в техникум</td>\n      <td>Прием докуменнтов для поступления проходит с 2...</td>\n      <td>NaN</td>\n    </tr>\n    <tr>\n      <th>9</th>\n      <td>Когда начало учебного годая у студентов</td>\n      <td>Начало учебного года у студентов всех курсов 1...</td>\n      <td>NaN</td>\n    </tr>\n    <tr>\n      <th>10</th>\n      <td>По какому адресу учатся студенты?</td>\n      <td>Студенты первокусники всех специальностей обуч...</td>\n      <td>NaN</td>\n    </tr>\n    <tr>\n      <th>11</th>\n      <td>Можно ли оплачивать обучение из средств матери...</td>\n      <td>Оплата обучения материнским капиталом возможна...</td>\n      <td>NaN</td>\n    </tr>\n    <tr>\n      <th>12</th>\n      <td>Выплачивается ли студентам-бюджетникам стипендия</td>\n      <td>С 1 сентября по 31 декабря государственная ака...</td>\n      <td>NaN</td>\n    </tr>\n    <tr>\n      <th>13</th>\n      <td>Можно ли прислать документы в приёмную комисси...</td>\n      <td>Поступающие вправе направить в колледж заявлен...</td>\n      <td>NaN</td>\n    </tr>\n    <tr>\n      <th>14</th>\n      <td>Начало приема документов</td>\n      <td>Прием докуменнтов для поступления проходит с 2...</td>\n      <td>NaN</td>\n    </tr>\n    <tr>\n      <th>15</th>\n      <td>Какая квалификация присваивается выпускникам т...</td>\n      <td>Выпускникам  специальности 09.02.01 \"Компьютер...</td>\n      <td>NaN</td>\n    </tr>\n    <tr>\n      <th>16</th>\n      <td>Квалификация 09.02.01</td>\n      <td>Выпускникам  специальности 09.02.01 \"Компьютер...</td>\n      <td>NaN</td>\n    </tr>\n    <tr>\n      <th>17</th>\n      <td>Квалификация 09.02.06</td>\n      <td>Выпускникам  специальности 09.02.06 \"Сетевое и...</td>\n      <td>NaN</td>\n    </tr>\n    <tr>\n      <th>18</th>\n      <td>Квалификация 09.02.08</td>\n      <td>Выпускникам специальности 09.02.08 присваивает...</td>\n      <td>NaN</td>\n    </tr>\n    <tr>\n      <th>19</th>\n      <td>Квалификация 10.02.05</td>\n      <td>Выпускникам специальности 10.02.05 присваивает...</td>\n      <td>NaN</td>\n    </tr>\n    <tr>\n      <th>20</th>\n      <td>Квалификация 25.02.08</td>\n      <td>Выпускникам специальности 25.02.08 присваивает...</td>\n      <td>NaN</td>\n    </tr>\n    <tr>\n      <th>21</th>\n      <td>Квалификация 40.02.04</td>\n      <td>Выпускникам специальности 40.02.04 присваивает...</td>\n      <td>NaN</td>\n    </tr>\n    <tr>\n      <th>22</th>\n      <td>Квалификация 09.02.07</td>\n      <td>Выпускникам специальности 09.02.07 присваивает...</td>\n      <td>NaN</td>\n    </tr>\n    <tr>\n      <th>23</th>\n      <td>Оплата обучения за год</td>\n      <td>Оплата обучения осуществляется по семестрам</td>\n      <td>NaN</td>\n    </tr>\n    <tr>\n      <th>24</th>\n      <td>Начало приема документов</td>\n      <td>Прием докуменнтов для поступления проходит с 2...</td>\n      <td>NaN</td>\n    </tr>\n    <tr>\n      <th>25</th>\n      <td>Начало учебного года</td>\n      <td>Начало учебного года у студентов всех курсов 1...</td>\n      <td>NaN</td>\n    </tr>\n    <tr>\n      <th>26</th>\n      <td>Адрес обучения</td>\n      <td>Студенты первокусники всех специальностей обуч...</td>\n      <td>NaN</td>\n    </tr>\n    <tr>\n      <th>27</th>\n      <td>Оплата материнским капиталом</td>\n      <td>Оплата обучения материнским капиталом возможна...</td>\n      <td>NaN</td>\n    </tr>\n    <tr>\n      <th>28</th>\n      <td>Стипендия для бюджетников</td>\n      <td>С 1 сентября по 31 декабря государственная ака...</td>\n      <td>NaN</td>\n    </tr>\n    <tr>\n      <th>29</th>\n      <td>Электронная отправка документов</td>\n      <td>Поступающие вправе направить в колледж заявлен...</td>\n      <td>NaN</td>\n    </tr>\n    <tr>\n      <th>30</th>\n      <td>Начало приема документов</td>\n      <td>Прием докуменнтов для поступления проходит с 2...</td>\n      <td>NaN</td>\n    </tr>\n    <tr>\n      <th>31</th>\n      <td>Квалификация 09.02.01</td>\n      <td>Выпускникам  специальности 09.02.01 \"Компьютер...</td>\n      <td>NaN</td>\n    </tr>\n    <tr>\n      <th>32</th>\n      <td>Какая квалификация присваивается студентам тех...</td>\n      <td>Выпускникам  специальности 09.02.01 \"Компьютер...</td>\n      <td>NaN</td>\n    </tr>\n    <tr>\n      <th>33</th>\n      <td>Какую квалификацию получают студенты техникума...</td>\n      <td>Выпускникам  специальности 09.02.06 \"Сетевое и...</td>\n      <td>NaN</td>\n    </tr>\n    <tr>\n      <th>34</th>\n      <td>Какую квалификацию получают студентам техникум...</td>\n      <td>Выпускникам специальности 09.02.08 присваивает...</td>\n      <td>NaN</td>\n    </tr>\n    <tr>\n      <th>35</th>\n      <td>Какую квалификацию получают студенты техникума...</td>\n      <td>Выпускникам специальности 10.02.05 присваивает...</td>\n      <td>NaN</td>\n    </tr>\n    <tr>\n      <th>36</th>\n      <td>Какую квалификацию получают студенты техникума...</td>\n      <td>Выпускникам специальности 25.02.08 присваивает...</td>\n      <td>NaN</td>\n    </tr>\n    <tr>\n      <th>37</th>\n      <td>Какую квалификацию получают студенты техникума...</td>\n      <td>Выпускникам специальности 40.02.04 присваивает...</td>\n      <td>NaN</td>\n    </tr>\n    <tr>\n      <th>38</th>\n      <td>Какую квалификацию получают студенты техникума...</td>\n      <td>Выпускникам специальности 09.02.07 присваивает...</td>\n      <td>NaN</td>\n    </tr>\n    <tr>\n      <th>39</th>\n      <td>Как осуществляется оплата обучения — сразу за ...</td>\n      <td>Оплата обучения осуществляется по семестрам</td>\n      <td>NaN</td>\n    </tr>\n    <tr>\n      <th>40</th>\n      <td>Когда начинается прием документов в техникум</td>\n      <td>Прием докуменнтов для поступления проходит с 2...</td>\n      <td>NaN</td>\n    </tr>\n    <tr>\n      <th>41</th>\n      <td>Когда начинается учебный год у студентов</td>\n      <td>Начало учебного года у студентов всех курсов 1...</td>\n      <td>NaN</td>\n    </tr>\n    <tr>\n      <th>42</th>\n      <td>По какому адресу проходят занятия у студентов</td>\n      <td>Студенты первокусники всех специальностей обуч...</td>\n      <td>NaN</td>\n    </tr>\n    <tr>\n      <th>43</th>\n      <td>Можно ли использовать средства материнского ка...</td>\n      <td>Оплата обучения материнским капиталом возможна...</td>\n      <td>NaN</td>\n    </tr>\n    <tr>\n      <th>44</th>\n      <td>Выплачивается ли студентам-бюджетникам стипендия</td>\n      <td>С 1 сентября по 31 декабря государственная ака...</td>\n      <td>NaN</td>\n    </tr>\n    <tr>\n      <th>45</th>\n      <td>Можно ли отправить документы в приемную комисс...</td>\n      <td>Поступающие вправе направить в колледж заявлен...</td>\n      <td>NaN</td>\n    </tr>\n  </tbody>\n</table>\n</div>"
     },
     "execution_count": 184,
     "metadata": {},
     "output_type": "execute_result"
    }
   ],
   "execution_count": 184
  },
  {
   "cell_type": "code",
   "outputs": [],
   "source": [
    "def tokenize_words(string: str):\n",
    "    text = string.replace(\".\", '').replace(\"?\", '').replace('-', '')\n",
    "    return text.lower()\n",
    "\n",
    "def to_codding(array):\n",
    "    codding_text = []\n",
    "    for i in array:\n",
    "        codding_text.append([tokenizer.word_index.get(j) if tokenizer.word_index.get(j) is not None else 0 for j in i.split(\" \")])\n",
    "        \n",
    "    return codding_text"
   ],
   "metadata": {
    "collapsed": false,
    "ExecuteTime": {
     "end_time": "2024-10-17T11:49:58.850397Z",
     "start_time": "2024-10-17T11:49:58.832825800Z"
    }
   },
   "id": "4fdd3b9904a117ae",
   "execution_count": 185
  },
  {
   "cell_type": "code",
   "source": [
    "\n",
    "max_words_in_text = 20\n",
    "\n",
    "tokenizer = Tokenizer(num_words=max_words_in_text, filters='!–\"—#$%&amp;()*+,-./:;<=>?@[\\\\]^_`{|}~\\t\\n\\r«»',\n",
    "                      lower=True, split=' ', char_level=False)\n",
    "\n",
    "from_preproc = [tokenize_words(i) for i in df.question]\n",
    "tokenizer.fit_on_texts(from_preproc)\n",
    "new_text = to_codding(from_preproc)\n",
    "\n",
    "print(new_text)"
   ],
   "metadata": {
    "collapsed": false,
    "ExecuteTime": {
     "end_time": "2024-10-17T11:50:23.960419600Z",
     "start_time": "2024-10-17T11:50:23.937937400Z"
    }
   },
   "id": "2d43ccfee5d7e59e",
   "outputs": [
    {
     "name": "stdout",
     "output_type": "stream",
     "text": [
      "[[5, 1, 6, 7, 4, 3, 2, 17, 37, 19, 8, 38], [5, 1, 6, 7, 4, 3, 2, 26, 39, 8, 40, 67], [5, 1, 6, 7, 0, 2, 27, 41, 42], [5, 1, 6, 7, 2, 28, 43, 68, 44, 45, 20], [5, 1, 6, 7, 2, 29, 46, 47, 48, 20], [5, 1, 6, 0, 7, 2, 30, 49], [5, 1, 6, 7, 2, 31, 69, 19, 8, 70], [50, 51, 21, 18, 52, 32, 33, 22], [23, 9, 24, 10, 0, 11, 53], [23, 9, 54, 71, 34, 35], [3, 55, 56, 72, 12], [25, 13, 73, 74, 75, 76, 57, 58], [59, 13, 60, 36], [25, 13, 77, 61, 11, 78, 62, 11, 79, 63], [9, 24, 10], [5, 1, 6, 7, 4, 3, 2, 17], [1, 17], [1, 26], [1, 27], [1, 28], [1, 29], [1, 30], [1, 31], [21, 18, 32, 22], [9, 24, 10], [9, 54, 80], [81, 18], [21, 82, 83], [36, 64, 84], [85, 86, 10], [9, 24, 10], [1, 17], [5, 1, 6, 65, 4, 3, 2, 17, 0, 19, 8, 0], [14, 15, 16, 12, 4, 3, 2, 26, 0, 8, 40, 0], [14, 15, 16, 65, 4, 3, 2, 27, 0, 0], [14, 15, 16, 12, 4, 3, 2, 28, 0, 88, 44, 45, 0], [14, 15, 16, 12, 4, 3, 2, 29, 0, 47, 48, 0], [14, 15, 16, 12, 4, 3, 2, 30, 0], [14, 15, 16, 12, 4, 3, 2, 31, 0, 19, 8, 0], [50, 51, 21, 18, 0, 52, 32, 33, 22], [23, 66, 91, 10, 11, 53], [23, 66, 33, 22, 34, 35], [3, 55, 56, 92, 93, 34, 35], [25, 13, 94, 95, 57, 58, 64, 96, 18], [59, 13, 60, 36], [25, 13, 97, 61, 11, 98, 62, 11, 99, 63]]\n"
     ]
    }
   ],
   "execution_count": 188
  },
  {
   "metadata": {
    "ExecuteTime": {
     "end_time": "2024-10-17T06:20:45.310652800Z",
     "start_time": "2024-10-17T06:20:45.265918900Z"
    }
   },
   "cell_type": "code",
   "source": [
    "def to_max_words(phrase: list[int], max_words: int):\n",
    "    nulles = [0 for _ in range(max_words - len(phrase))]\n",
    "    \n",
    "    return nulles + phrase"
   ],
   "id": "37f2dab02a1f6391",
   "outputs": [],
   "execution_count": 5
  },
  {
   "cell_type": "code",
   "outputs": [],
   "source": [
    "new_text = [to_max_words(phrase, max_words_in_text) for phrase in new_text]"
   ],
   "metadata": {
    "collapsed": false,
    "ExecuteTime": {
     "end_time": "2024-10-17T11:50:30.974499900Z",
     "start_time": "2024-10-17T11:50:30.938718300Z"
    }
   },
   "id": "f262d4efcd9c6563",
   "execution_count": 189
  },
  {
   "metadata": {
    "ExecuteTime": {
     "end_time": "2024-10-17T11:50:35.539926600Z",
     "start_time": "2024-10-17T11:50:35.532638900Z"
    }
   },
   "cell_type": "code",
   "source": [
    "class_responses = {}\n",
    "responses_class = {}\n",
    "array_classifications = []\n",
    "\n",
    "index_class = 1\n",
    "for resp in df.response:\n",
    "    \n",
    "    if resp not in class_responses.values():\n",
    "        class_responses[index_class] = resp\n",
    "        responses_class[resp] = index_class\n",
    "        array_classifications.append(index_class)\n",
    "        index_class += 1\n",
    "    \n",
    "    else:\n",
    "        array_classifications.append(responses_class[resp])\n"
   ],
   "id": "92410dba4d8b46ed",
   "outputs": [],
   "execution_count": 191
  },
  {
   "metadata": {
    "ExecuteTime": {
     "end_time": "2024-10-17T11:50:40.065216Z",
     "start_time": "2024-10-17T11:50:40.021460300Z"
    }
   },
   "cell_type": "code",
   "source": [
    "X = new_text\n",
    "max_value = max(class_responses.keys())\n",
    "y = []\n",
    "for i in array_classifications:\n",
    "    y.append([1 if j == i else 0 for j in range(max_value)])"
   ],
   "id": "17d3fe08b854b226",
   "outputs": [],
   "execution_count": 193
  },
  {
   "metadata": {
    "ExecuteTime": {
     "end_time": "2024-10-17T11:50:45.724096700Z",
     "start_time": "2024-10-17T11:50:45.674955100Z"
    }
   },
   "cell_type": "code",
   "source": [
    "from sklearn.model_selection import train_test_split\n",
    "\n",
    "x_train, x_test, y_train, y_test = train_test_split(X, y, test_size=0.33)\n",
    "x_train = np.array(x_train)\n",
    "x_test = np.array(x_test)\n",
    "y_train = np.array(y_train)\n",
    "y_test = np.array(y_test)\n",
    "print(x_train.shape)\n",
    "print(y_train.shape)"
   ],
   "id": "61b8e0d15e141ee3",
   "outputs": [
    {
     "name": "stdout",
     "output_type": "stream",
     "text": [
      "(30, 20)\n",
      "(30, 14)\n"
     ]
    }
   ],
   "execution_count": 194
  },
  {
   "cell_type": "code",
   "outputs": [],
   "source": [
    "from tensorflow.keras.layers import Embedding, Dense, BatchNormalization, LSTM, GRU, SimpleRNN, Dropout\n",
    "from tensorflow.keras.losses import BinaryCrossentropy"
   ],
   "metadata": {
    "collapsed": false,
    "ExecuteTime": {
     "end_time": "2024-10-17T11:42:37.414440600Z",
     "start_time": "2024-10-17T11:42:37.354821700Z"
    }
   },
   "id": "11f7c626c6324348",
   "execution_count": 166
  },
  {
   "metadata": {
    "ExecuteTime": {
     "end_time": "2024-10-17T11:50:57.420080300Z",
     "start_time": "2024-10-17T11:50:57.295538800Z"
    }
   },
   "cell_type": "code",
   "outputs": [
    {
     "data": {
      "text/plain": "\u001B[1mModel: \"sequential_24\"\u001B[0m\n",
      "text/html": "<pre style=\"white-space:pre;overflow-x:auto;line-height:normal;font-family:Menlo,'DejaVu Sans Mono',consolas,'Courier New',monospace\"><span style=\"font-weight: bold\">Model: \"sequential_24\"</span>\n</pre>\n"
     },
     "metadata": {},
     "output_type": "display_data"
    },
    {
     "data": {
      "text/plain": "┏━━━━━━━━━━━━━━━━━━━━━━━━━━━━━━━━━┳━━━━━━━━━━━━━━━━━━━━━━━━┳━━━━━━━━━━━━━━━┓\n┃\u001B[1m \u001B[0m\u001B[1mLayer (type)                   \u001B[0m\u001B[1m \u001B[0m┃\u001B[1m \u001B[0m\u001B[1mOutput Shape          \u001B[0m\u001B[1m \u001B[0m┃\u001B[1m \u001B[0m\u001B[1m      Param #\u001B[0m\u001B[1m \u001B[0m┃\n┡━━━━━━━━━━━━━━━━━━━━━━━━━━━━━━━━━╇━━━━━━━━━━━━━━━━━━━━━━━━╇━━━━━━━━━━━━━━━┩\n│ embedding_25 (\u001B[38;5;33mEmbedding\u001B[0m)        │ ?                      │   \u001B[38;5;34m0\u001B[0m (unbuilt) │\n├─────────────────────────────────┼────────────────────────┼───────────────┤\n│ lstm_16 (\u001B[38;5;33mLSTM\u001B[0m)                  │ ?                      │   \u001B[38;5;34m0\u001B[0m (unbuilt) │\n├─────────────────────────────────┼────────────────────────┼───────────────┤\n│ batch_normalization_55          │ ?                      │   \u001B[38;5;34m0\u001B[0m (unbuilt) │\n│ (\u001B[38;5;33mBatchNormalization\u001B[0m)            │                        │               │\n├─────────────────────────────────┼────────────────────────┼───────────────┤\n│ dense_81 (\u001B[38;5;33mDense\u001B[0m)                │ ?                      │   \u001B[38;5;34m0\u001B[0m (unbuilt) │\n├─────────────────────────────────┼────────────────────────┼───────────────┤\n│ batch_normalization_56          │ ?                      │   \u001B[38;5;34m0\u001B[0m (unbuilt) │\n│ (\u001B[38;5;33mBatchNormalization\u001B[0m)            │                        │               │\n├─────────────────────────────────┼────────────────────────┼───────────────┤\n│ dense_82 (\u001B[38;5;33mDense\u001B[0m)                │ ?                      │   \u001B[38;5;34m0\u001B[0m (unbuilt) │\n├─────────────────────────────────┼────────────────────────┼───────────────┤\n│ batch_normalization_57          │ ?                      │   \u001B[38;5;34m0\u001B[0m (unbuilt) │\n│ (\u001B[38;5;33mBatchNormalization\u001B[0m)            │                        │               │\n├─────────────────────────────────┼────────────────────────┼───────────────┤\n│ dense_83 (\u001B[38;5;33mDense\u001B[0m)                │ ?                      │   \u001B[38;5;34m0\u001B[0m (unbuilt) │\n├─────────────────────────────────┼────────────────────────┼───────────────┤\n│ dropout_14 (\u001B[38;5;33mDropout\u001B[0m)            │ ?                      │             \u001B[38;5;34m0\u001B[0m │\n├─────────────────────────────────┼────────────────────────┼───────────────┤\n│ dense_84 (\u001B[38;5;33mDense\u001B[0m)                │ ?                      │   \u001B[38;5;34m0\u001B[0m (unbuilt) │\n└─────────────────────────────────┴────────────────────────┴───────────────┘\n",
      "text/html": "<pre style=\"white-space:pre;overflow-x:auto;line-height:normal;font-family:Menlo,'DejaVu Sans Mono',consolas,'Courier New',monospace\">┏━━━━━━━━━━━━━━━━━━━━━━━━━━━━━━━━━┳━━━━━━━━━━━━━━━━━━━━━━━━┳━━━━━━━━━━━━━━━┓\n┃<span style=\"font-weight: bold\"> Layer (type)                    </span>┃<span style=\"font-weight: bold\"> Output Shape           </span>┃<span style=\"font-weight: bold\">       Param # </span>┃\n┡━━━━━━━━━━━━━━━━━━━━━━━━━━━━━━━━━╇━━━━━━━━━━━━━━━━━━━━━━━━╇━━━━━━━━━━━━━━━┩\n│ embedding_25 (<span style=\"color: #0087ff; text-decoration-color: #0087ff\">Embedding</span>)        │ ?                      │   <span style=\"color: #00af00; text-decoration-color: #00af00\">0</span> (unbuilt) │\n├─────────────────────────────────┼────────────────────────┼───────────────┤\n│ lstm_16 (<span style=\"color: #0087ff; text-decoration-color: #0087ff\">LSTM</span>)                  │ ?                      │   <span style=\"color: #00af00; text-decoration-color: #00af00\">0</span> (unbuilt) │\n├─────────────────────────────────┼────────────────────────┼───────────────┤\n│ batch_normalization_55          │ ?                      │   <span style=\"color: #00af00; text-decoration-color: #00af00\">0</span> (unbuilt) │\n│ (<span style=\"color: #0087ff; text-decoration-color: #0087ff\">BatchNormalization</span>)            │                        │               │\n├─────────────────────────────────┼────────────────────────┼───────────────┤\n│ dense_81 (<span style=\"color: #0087ff; text-decoration-color: #0087ff\">Dense</span>)                │ ?                      │   <span style=\"color: #00af00; text-decoration-color: #00af00\">0</span> (unbuilt) │\n├─────────────────────────────────┼────────────────────────┼───────────────┤\n│ batch_normalization_56          │ ?                      │   <span style=\"color: #00af00; text-decoration-color: #00af00\">0</span> (unbuilt) │\n│ (<span style=\"color: #0087ff; text-decoration-color: #0087ff\">BatchNormalization</span>)            │                        │               │\n├─────────────────────────────────┼────────────────────────┼───────────────┤\n│ dense_82 (<span style=\"color: #0087ff; text-decoration-color: #0087ff\">Dense</span>)                │ ?                      │   <span style=\"color: #00af00; text-decoration-color: #00af00\">0</span> (unbuilt) │\n├─────────────────────────────────┼────────────────────────┼───────────────┤\n│ batch_normalization_57          │ ?                      │   <span style=\"color: #00af00; text-decoration-color: #00af00\">0</span> (unbuilt) │\n│ (<span style=\"color: #0087ff; text-decoration-color: #0087ff\">BatchNormalization</span>)            │                        │               │\n├─────────────────────────────────┼────────────────────────┼───────────────┤\n│ dense_83 (<span style=\"color: #0087ff; text-decoration-color: #0087ff\">Dense</span>)                │ ?                      │   <span style=\"color: #00af00; text-decoration-color: #00af00\">0</span> (unbuilt) │\n├─────────────────────────────────┼────────────────────────┼───────────────┤\n│ dropout_14 (<span style=\"color: #0087ff; text-decoration-color: #0087ff\">Dropout</span>)            │ ?                      │             <span style=\"color: #00af00; text-decoration-color: #00af00\">0</span> │\n├─────────────────────────────────┼────────────────────────┼───────────────┤\n│ dense_84 (<span style=\"color: #0087ff; text-decoration-color: #0087ff\">Dense</span>)                │ ?                      │   <span style=\"color: #00af00; text-decoration-color: #00af00\">0</span> (unbuilt) │\n└─────────────────────────────────┴────────────────────────┴───────────────┘\n</pre>\n"
     },
     "metadata": {},
     "output_type": "display_data"
    },
    {
     "data": {
      "text/plain": "\u001B[1m Total params: \u001B[0m\u001B[38;5;34m0\u001B[0m (0.00 B)\n",
      "text/html": "<pre style=\"white-space:pre;overflow-x:auto;line-height:normal;font-family:Menlo,'DejaVu Sans Mono',consolas,'Courier New',monospace\"><span style=\"font-weight: bold\"> Total params: </span><span style=\"color: #00af00; text-decoration-color: #00af00\">0</span> (0.00 B)\n</pre>\n"
     },
     "metadata": {},
     "output_type": "display_data"
    },
    {
     "data": {
      "text/plain": "\u001B[1m Trainable params: \u001B[0m\u001B[38;5;34m0\u001B[0m (0.00 B)\n",
      "text/html": "<pre style=\"white-space:pre;overflow-x:auto;line-height:normal;font-family:Menlo,'DejaVu Sans Mono',consolas,'Courier New',monospace\"><span style=\"font-weight: bold\"> Trainable params: </span><span style=\"color: #00af00; text-decoration-color: #00af00\">0</span> (0.00 B)\n</pre>\n"
     },
     "metadata": {},
     "output_type": "display_data"
    },
    {
     "data": {
      "text/plain": "\u001B[1m Non-trainable params: \u001B[0m\u001B[38;5;34m0\u001B[0m (0.00 B)\n",
      "text/html": "<pre style=\"white-space:pre;overflow-x:auto;line-height:normal;font-family:Menlo,'DejaVu Sans Mono',consolas,'Courier New',monospace\"><span style=\"font-weight: bold\"> Non-trainable params: </span><span style=\"color: #00af00; text-decoration-color: #00af00\">0</span> (0.00 B)\n</pre>\n"
     },
     "metadata": {},
     "output_type": "display_data"
    }
   ],
   "execution_count": 195,
   "source": [
    "model = keras.models.Sequential(\n",
    "    [\n",
    "    Embedding(output_dim=20, input_dim=max(tokenizer.index_word.keys()) + 1),\n",
    "    LSTM(256, activation='relu'),\n",
    "    BatchNormalization(),\n",
    "    Dense(128, activation='relu'),\n",
    "    BatchNormalization(),\n",
    "    Dense(64, activation=\"relu\"),\n",
    "    BatchNormalization(),\n",
    "    Dense(32, activation=\"relu\"),\n",
    "    Dropout(0.5),\n",
    "    Dense(len(class_responses.keys()), activation=\"sigmoid\")\n",
    "]\n",
    ")\n",
    "\n",
    "model.summary()\n",
    "model.compile(loss=BinaryCrossentropy, metrics=[\"recall\"], optimizer=\"adam\")"
   ],
   "id": "d70313833561b92"
  },
  {
   "cell_type": "markdown",
   "source": [],
   "metadata": {
    "collapsed": false
   },
   "id": "26c2120930be3e67"
  },
  {
   "cell_type": "code",
   "outputs": [
    {
     "name": "stdout",
     "output_type": "stream",
     "text": [
      "Epoch 1/50\n",
      "\u001B[1m1/1\u001B[0m \u001B[32m━━━━━━━━━━━━━━━━━━━━\u001B[0m\u001B[37m\u001B[0m \u001B[1m8s\u001B[0m 8s/step - loss: 0.9213 - recall: 0.6071 - val_loss: 0.6918 - val_recall: 0.0667\n",
      "Epoch 2/50\n",
      "\u001B[1m1/1\u001B[0m \u001B[32m━━━━━━━━━━━━━━━━━━━━\u001B[0m\u001B[37m\u001B[0m \u001B[1m0s\u001B[0m 176ms/step - loss: 0.8665 - recall: 0.5357 - val_loss: 0.6905 - val_recall: 0.0667\n",
      "Epoch 3/50\n",
      "\u001B[1m1/1\u001B[0m \u001B[32m━━━━━━━━━━━━━━━━━━━━\u001B[0m\u001B[37m\u001B[0m \u001B[1m0s\u001B[0m 186ms/step - loss: 0.7665 - recall: 0.6071 - val_loss: 0.6892 - val_recall: 0.0667\n",
      "Epoch 4/50\n",
      "\u001B[1m1/1\u001B[0m \u001B[32m━━━━━━━━━━━━━━━━━━━━\u001B[0m\u001B[37m\u001B[0m \u001B[1m0s\u001B[0m 169ms/step - loss: 0.7330 - recall: 0.4643 - val_loss: 0.6878 - val_recall: 0.0667\n",
      "Epoch 5/50\n",
      "\u001B[1m1/1\u001B[0m \u001B[32m━━━━━━━━━━━━━━━━━━━━\u001B[0m\u001B[37m\u001B[0m \u001B[1m0s\u001B[0m 159ms/step - loss: 0.6908 - recall: 0.6786 - val_loss: 0.6863 - val_recall: 0.0667\n",
      "Epoch 6/50\n",
      "\u001B[1m1/1\u001B[0m \u001B[32m━━━━━━━━━━━━━━━━━━━━\u001B[0m\u001B[37m\u001B[0m \u001B[1m0s\u001B[0m 163ms/step - loss: 0.7585 - recall: 0.6786 - val_loss: 0.6846 - val_recall: 0.0667\n",
      "Epoch 7/50\n",
      "\u001B[1m1/1\u001B[0m \u001B[32m━━━━━━━━━━━━━━━━━━━━\u001B[0m\u001B[37m\u001B[0m \u001B[1m0s\u001B[0m 165ms/step - loss: 0.6649 - recall: 0.7143 - val_loss: 0.6830 - val_recall: 0.0667\n",
      "Epoch 8/50\n",
      "\u001B[1m1/1\u001B[0m \u001B[32m━━━━━━━━━━━━━━━━━━━━\u001B[0m\u001B[37m\u001B[0m \u001B[1m0s\u001B[0m 166ms/step - loss: 0.6700 - recall: 0.8571 - val_loss: 0.6812 - val_recall: 0.0667\n",
      "Epoch 9/50\n",
      "\u001B[1m1/1\u001B[0m \u001B[32m━━━━━━━━━━━━━━━━━━━━\u001B[0m\u001B[37m\u001B[0m \u001B[1m0s\u001B[0m 153ms/step - loss: 0.6592 - recall: 0.5357 - val_loss: 0.6794 - val_recall: 0.0667\n",
      "Epoch 10/50\n",
      "\u001B[1m1/1\u001B[0m \u001B[32m━━━━━━━━━━━━━━━━━━━━\u001B[0m\u001B[37m\u001B[0m \u001B[1m0s\u001B[0m 156ms/step - loss: 0.6345 - recall: 0.7143 - val_loss: 0.6776 - val_recall: 0.0667\n",
      "Epoch 11/50\n",
      "\u001B[1m1/1\u001B[0m \u001B[32m━━━━━━━━━━━━━━━━━━━━\u001B[0m\u001B[37m\u001B[0m \u001B[1m0s\u001B[0m 153ms/step - loss: 0.6257 - recall: 0.6429 - val_loss: 0.6757 - val_recall: 0.0667\n",
      "Epoch 12/50\n",
      "\u001B[1m1/1\u001B[0m \u001B[32m━━━━━━━━━━━━━━━━━━━━\u001B[0m\u001B[37m\u001B[0m \u001B[1m0s\u001B[0m 163ms/step - loss: 0.6152 - recall: 0.7857 - val_loss: 0.6737 - val_recall: 0.0000e+00\n",
      "Epoch 13/50\n",
      "\u001B[1m1/1\u001B[0m \u001B[32m━━━━━━━━━━━━━━━━━━━━\u001B[0m\u001B[37m\u001B[0m \u001B[1m0s\u001B[0m 167ms/step - loss: 0.5797 - recall: 0.5357 - val_loss: 0.6717 - val_recall: 0.0000e+00\n",
      "Epoch 14/50\n",
      "\u001B[1m1/1\u001B[0m \u001B[32m━━━━━━━━━━━━━━━━━━━━\u001B[0m\u001B[37m\u001B[0m \u001B[1m0s\u001B[0m 156ms/step - loss: 0.6021 - recall: 0.6429 - val_loss: 0.6696 - val_recall: 0.0000e+00\n",
      "Epoch 15/50\n",
      "\u001B[1m1/1\u001B[0m \u001B[32m━━━━━━━━━━━━━━━━━━━━\u001B[0m\u001B[37m\u001B[0m \u001B[1m0s\u001B[0m 145ms/step - loss: 0.5457 - recall: 0.5714 - val_loss: 0.6674 - val_recall: 0.0000e+00\n",
      "Epoch 16/50\n",
      "\u001B[1m1/1\u001B[0m \u001B[32m━━━━━━━━━━━━━━━━━━━━\u001B[0m\u001B[37m\u001B[0m \u001B[1m0s\u001B[0m 142ms/step - loss: 0.5884 - recall: 0.6786 - val_loss: 0.6651 - val_recall: 0.0000e+00\n",
      "Epoch 17/50\n",
      "\u001B[1m1/1\u001B[0m \u001B[32m━━━━━━━━━━━━━━━━━━━━\u001B[0m\u001B[37m\u001B[0m \u001B[1m0s\u001B[0m 149ms/step - loss: 0.5321 - recall: 0.6429 - val_loss: 0.6627 - val_recall: 0.0000e+00\n",
      "Epoch 18/50\n",
      "\u001B[1m1/1\u001B[0m \u001B[32m━━━━━━━━━━━━━━━━━━━━\u001B[0m\u001B[37m\u001B[0m \u001B[1m0s\u001B[0m 153ms/step - loss: 0.5600 - recall: 0.7500 - val_loss: 0.6603 - val_recall: 0.0000e+00\n",
      "Epoch 19/50\n",
      "\u001B[1m1/1\u001B[0m \u001B[32m━━━━━━━━━━━━━━━━━━━━\u001B[0m\u001B[37m\u001B[0m \u001B[1m0s\u001B[0m 161ms/step - loss: 0.5491 - recall: 0.6071 - val_loss: 0.6578 - val_recall: 0.0000e+00\n",
      "Epoch 20/50\n",
      "\u001B[1m1/1\u001B[0m \u001B[32m━━━━━━━━━━━━━━━━━━━━\u001B[0m\u001B[37m\u001B[0m \u001B[1m0s\u001B[0m 145ms/step - loss: 0.5022 - recall: 0.7143 - val_loss: 0.6552 - val_recall: 0.0000e+00\n",
      "Epoch 21/50\n",
      "\u001B[1m1/1\u001B[0m \u001B[32m━━━━━━━━━━━━━━━━━━━━\u001B[0m\u001B[37m\u001B[0m \u001B[1m0s\u001B[0m 152ms/step - loss: 0.5215 - recall: 0.7500 - val_loss: 0.6525 - val_recall: 0.0000e+00\n",
      "Epoch 22/50\n",
      "\u001B[1m1/1\u001B[0m \u001B[32m━━━━━━━━━━━━━━━━━━━━\u001B[0m\u001B[37m\u001B[0m \u001B[1m0s\u001B[0m 187ms/step - loss: 0.5339 - recall: 0.7857 - val_loss: 0.6498 - val_recall: 0.0000e+00\n",
      "Epoch 23/50\n",
      "\u001B[1m1/1\u001B[0m \u001B[32m━━━━━━━━━━━━━━━━━━━━\u001B[0m\u001B[37m\u001B[0m \u001B[1m0s\u001B[0m 161ms/step - loss: 0.5089 - recall: 0.7143 - val_loss: 0.6470 - val_recall: 0.0000e+00\n",
      "Epoch 24/50\n",
      "\u001B[1m1/1\u001B[0m \u001B[32m━━━━━━━━━━━━━━━━━━━━\u001B[0m\u001B[37m\u001B[0m \u001B[1m0s\u001B[0m 205ms/step - loss: 0.5168 - recall: 0.7857 - val_loss: 0.6441 - val_recall: 0.0000e+00\n",
      "Epoch 25/50\n",
      "\u001B[1m1/1\u001B[0m \u001B[32m━━━━━━━━━━━━━━━━━━━━\u001B[0m\u001B[37m\u001B[0m \u001B[1m0s\u001B[0m 145ms/step - loss: 0.4991 - recall: 0.6429 - val_loss: 0.6412 - val_recall: 0.0000e+00\n",
      "Epoch 26/50\n",
      "\u001B[1m1/1\u001B[0m \u001B[32m━━━━━━━━━━━━━━━━━━━━\u001B[0m\u001B[37m\u001B[0m \u001B[1m0s\u001B[0m 150ms/step - loss: 0.4857 - recall: 0.6071 - val_loss: 0.6382 - val_recall: 0.0000e+00\n",
      "Epoch 27/50\n",
      "\u001B[1m1/1\u001B[0m \u001B[32m━━━━━━━━━━━━━━━━━━━━\u001B[0m\u001B[37m\u001B[0m \u001B[1m0s\u001B[0m 196ms/step - loss: 0.4797 - recall: 0.7500 - val_loss: 0.6352 - val_recall: 0.0000e+00\n",
      "Epoch 28/50\n",
      "\u001B[1m1/1\u001B[0m \u001B[32m━━━━━━━━━━━━━━━━━━━━\u001B[0m\u001B[37m\u001B[0m \u001B[1m0s\u001B[0m 157ms/step - loss: 0.4491 - recall: 0.6786 - val_loss: 0.6322 - val_recall: 0.0000e+00\n",
      "Epoch 29/50\n",
      "\u001B[1m1/1\u001B[0m \u001B[32m━━━━━━━━━━━━━━━━━━━━\u001B[0m\u001B[37m\u001B[0m \u001B[1m0s\u001B[0m 140ms/step - loss: 0.4941 - recall: 0.7143 - val_loss: 0.6291 - val_recall: 0.0000e+00\n",
      "Epoch 30/50\n",
      "\u001B[1m1/1\u001B[0m \u001B[32m━━━━━━━━━━━━━━━━━━━━\u001B[0m\u001B[37m\u001B[0m \u001B[1m0s\u001B[0m 150ms/step - loss: 0.4527 - recall: 0.8214 - val_loss: 0.6259 - val_recall: 0.0000e+00\n",
      "Epoch 31/50\n",
      "\u001B[1m1/1\u001B[0m \u001B[32m━━━━━━━━━━━━━━━━━━━━\u001B[0m\u001B[37m\u001B[0m \u001B[1m0s\u001B[0m 161ms/step - loss: 0.4623 - recall: 0.7500 - val_loss: 0.6226 - val_recall: 0.0000e+00\n",
      "Epoch 32/50\n",
      "\u001B[1m1/1\u001B[0m \u001B[32m━━━━━━━━━━━━━━━━━━━━\u001B[0m\u001B[37m\u001B[0m \u001B[1m0s\u001B[0m 149ms/step - loss: 0.4555 - recall: 0.7857 - val_loss: 0.6192 - val_recall: 0.0000e+00\n",
      "Epoch 33/50\n",
      "\u001B[1m1/1\u001B[0m \u001B[32m━━━━━━━━━━━━━━━━━━━━\u001B[0m\u001B[37m\u001B[0m \u001B[1m0s\u001B[0m 183ms/step - loss: 0.4452 - recall: 0.7500 - val_loss: 0.6157 - val_recall: 0.0000e+00\n",
      "Epoch 34/50\n",
      "\u001B[1m1/1\u001B[0m \u001B[32m━━━━━━━━━━━━━━━━━━━━\u001B[0m\u001B[37m\u001B[0m \u001B[1m0s\u001B[0m 156ms/step - loss: 0.4790 - recall: 0.6786 - val_loss: 0.6121 - val_recall: 0.0000e+00\n",
      "Epoch 35/50\n",
      "\u001B[1m1/1\u001B[0m \u001B[32m━━━━━━━━━━━━━━━━━━━━\u001B[0m\u001B[37m\u001B[0m \u001B[1m0s\u001B[0m 159ms/step - loss: 0.4399 - recall: 0.6429 - val_loss: 0.6085 - val_recall: 0.0000e+00\n",
      "Epoch 36/50\n",
      "\u001B[1m1/1\u001B[0m \u001B[32m━━━━━━━━━━━━━━━━━━━━\u001B[0m\u001B[37m\u001B[0m \u001B[1m0s\u001B[0m 172ms/step - loss: 0.4766 - recall: 0.4286 - val_loss: 0.6049 - val_recall: 0.0000e+00\n",
      "Epoch 37/50\n",
      "\u001B[1m1/1\u001B[0m \u001B[32m━━━━━━━━━━━━━━━━━━━━\u001B[0m\u001B[37m\u001B[0m \u001B[1m0s\u001B[0m 166ms/step - loss: 0.4707 - recall: 0.6071 - val_loss: 0.6012 - val_recall: 0.0000e+00\n",
      "Epoch 38/50\n",
      "\u001B[1m1/1\u001B[0m \u001B[32m━━━━━━━━━━━━━━━━━━━━\u001B[0m\u001B[37m\u001B[0m \u001B[1m0s\u001B[0m 144ms/step - loss: 0.4562 - recall: 0.7857 - val_loss: 0.5975 - val_recall: 0.0000e+00\n",
      "Epoch 39/50\n",
      "\u001B[1m1/1\u001B[0m \u001B[32m━━━━━━━━━━━━━━━━━━━━\u001B[0m\u001B[37m\u001B[0m \u001B[1m0s\u001B[0m 167ms/step - loss: 0.4241 - recall: 0.6429 - val_loss: 0.5937 - val_recall: 0.0000e+00\n",
      "Epoch 40/50\n",
      "\u001B[1m1/1\u001B[0m \u001B[32m━━━━━━━━━━━━━━━━━━━━\u001B[0m\u001B[37m\u001B[0m \u001B[1m0s\u001B[0m 153ms/step - loss: 0.4339 - recall: 0.7500 - val_loss: 0.5898 - val_recall: 0.0000e+00\n",
      "Epoch 41/50\n",
      "\u001B[1m1/1\u001B[0m \u001B[32m━━━━━━━━━━━━━━━━━━━━\u001B[0m\u001B[37m\u001B[0m \u001B[1m0s\u001B[0m 158ms/step - loss: 0.4231 - recall: 0.6786 - val_loss: 0.5859 - val_recall: 0.0000e+00\n",
      "Epoch 42/50\n",
      "\u001B[1m1/1\u001B[0m \u001B[32m━━━━━━━━━━━━━━━━━━━━\u001B[0m\u001B[37m\u001B[0m \u001B[1m0s\u001B[0m 153ms/step - loss: 0.4343 - recall: 0.6071 - val_loss: 0.5820 - val_recall: 0.0000e+00\n",
      "Epoch 43/50\n",
      "\u001B[1m1/1\u001B[0m \u001B[32m━━━━━━━━━━━━━━━━━━━━\u001B[0m\u001B[37m\u001B[0m \u001B[1m0s\u001B[0m 161ms/step - loss: 0.3985 - recall: 0.7143 - val_loss: 0.5781 - val_recall: 0.0000e+00\n",
      "Epoch 44/50\n",
      "\u001B[1m1/1\u001B[0m \u001B[32m━━━━━━━━━━━━━━━━━━━━\u001B[0m\u001B[37m\u001B[0m \u001B[1m0s\u001B[0m 155ms/step - loss: 0.4006 - recall: 0.7143 - val_loss: 0.5741 - val_recall: 0.0000e+00\n",
      "Epoch 45/50\n",
      "\u001B[1m1/1\u001B[0m \u001B[32m━━━━━━━━━━━━━━━━━━━━\u001B[0m\u001B[37m\u001B[0m \u001B[1m0s\u001B[0m 160ms/step - loss: 0.4214 - recall: 0.5714 - val_loss: 0.5702 - val_recall: 0.0000e+00\n",
      "Epoch 46/50\n",
      "\u001B[1m1/1\u001B[0m \u001B[32m━━━━━━━━━━━━━━━━━━━━\u001B[0m\u001B[37m\u001B[0m \u001B[1m0s\u001B[0m 154ms/step - loss: 0.3904 - recall: 0.6071 - val_loss: 0.5663 - val_recall: 0.0000e+00\n",
      "Epoch 47/50\n",
      "\u001B[1m1/1\u001B[0m \u001B[32m━━━━━━━━━━━━━━━━━━━━\u001B[0m\u001B[37m\u001B[0m \u001B[1m0s\u001B[0m 165ms/step - loss: 0.3874 - recall: 0.6786 - val_loss: 0.5623 - val_recall: 0.0000e+00\n",
      "Epoch 48/50\n",
      "\u001B[1m1/1\u001B[0m \u001B[32m━━━━━━━━━━━━━━━━━━━━\u001B[0m\u001B[37m\u001B[0m \u001B[1m0s\u001B[0m 152ms/step - loss: 0.3781 - recall: 0.7143 - val_loss: 0.5583 - val_recall: 0.0000e+00\n",
      "Epoch 49/50\n",
      "\u001B[1m1/1\u001B[0m \u001B[32m━━━━━━━━━━━━━━━━━━━━\u001B[0m\u001B[37m\u001B[0m \u001B[1m0s\u001B[0m 157ms/step - loss: 0.3716 - recall: 0.6786 - val_loss: 0.5544 - val_recall: 0.0000e+00\n",
      "Epoch 50/50\n",
      "\u001B[1m1/1\u001B[0m \u001B[32m━━━━━━━━━━━━━━━━━━━━\u001B[0m\u001B[37m\u001B[0m \u001B[1m0s\u001B[0m 154ms/step - loss: 0.3544 - recall: 0.8214 - val_loss: 0.5504 - val_recall: 0.0000e+00\n"
     ]
    },
    {
     "data": {
      "text/plain": "<keras.src.callbacks.history.History at 0x1e117c829b0>"
     },
     "execution_count": 196,
     "metadata": {},
     "output_type": "execute_result"
    }
   ],
   "source": [
    "model.fit(x_train, y_train, epochs=50, batch_size=64, validation_data=(x_test, y_test))"
   ],
   "metadata": {
    "collapsed": false,
    "ExecuteTime": {
     "end_time": "2024-10-17T11:51:19.110459800Z",
     "start_time": "2024-10-17T11:51:02.412249100Z"
    }
   },
   "id": "7c27f0c456286065",
   "execution_count": 196
  },
  {
   "cell_type": "code",
   "outputs": [],
   "source": [
    "def get_max_index(array):\n",
    "    maximum_index = 0\n",
    "    maximum_value = array[0]\n",
    "    \n",
    "    for i in range(1, len(array)):\n",
    "        if array[i] >maximum_value:\n",
    "            maximum_value = array[i]\n",
    "            maximum_index = i\n",
    "    \n",
    "    return maximum_index + 1"
   ],
   "metadata": {
    "collapsed": false,
    "ExecuteTime": {
     "end_time": "2024-10-17T11:52:50.505251700Z",
     "start_time": "2024-10-17T11:52:50.479428400Z"
    }
   },
   "id": "18d78470e2c99a90",
   "execution_count": 203
  },
  {
   "cell_type": "code",
   "outputs": [
    {
     "name": "stdout",
     "output_type": "stream",
     "text": [
      "\u001B[1m1/1\u001B[0m \u001B[32m━━━━━━━━━━━━━━━━━━━━\u001B[0m\u001B[37m\u001B[0m \u001B[1m0s\u001B[0m 47ms/step\n",
      "[[0.46014217 0.37381956 0.35209522 0.36561137 0.3230072  0.42712796\n",
      "  0.41633126 0.4259639  0.3787695  0.40495738 0.4141053  0.4545976\n",
      "  0.42720136 0.4275609 ]]\n",
      "1\n",
      "Выпускникам  специальности 09.02.01 \"Компьютерные ситемы и комплексы\" присваивается квалификация \"Техник по компьютерным системам\"\n"
     ]
    }
   ],
   "source": [
    "from_preproc1 = [tokenize_words(i) for i in [\"Как оплачивать обучение\"]]\n",
    "\n",
    "new_text1 = tokenizer.texts_to_sequences(from_preproc1)\n",
    "\n",
    "new_text1 = np.array([to_max_words(phrase, max_words_in_text) for phrase in new_text1])\n",
    "what_predict = model.predict(new_text1)\n",
    "print(what_predict)\n",
    "print(get_max_index(what_predict[0]))\n",
    "print(class_responses.get(get_max_index(what_predict[0])))"
   ],
   "metadata": {
    "collapsed": false,
    "ExecuteTime": {
     "end_time": "2024-10-18T08:03:56.418494100Z",
     "start_time": "2024-10-18T08:03:56.270297600Z"
    }
   },
   "id": "18e417019e5d7e06",
   "execution_count": 210
  }
 ],
 "metadata": {
  "kernelspec": {
   "display_name": "Python 3",
   "language": "python",
   "name": "python3"
  },
  "language_info": {
   "codemirror_mode": {
    "name": "ipython",
    "version": 2
   },
   "file_extension": ".py",
   "mimetype": "text/x-python",
   "name": "python",
   "nbconvert_exporter": "python",
   "pygments_lexer": "ipython2",
   "version": "2.7.6"
  }
 },
 "nbformat": 4,
 "nbformat_minor": 5
}
